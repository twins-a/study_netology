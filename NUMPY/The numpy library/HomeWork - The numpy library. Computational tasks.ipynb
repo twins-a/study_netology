{
 "cells": [
  {
   "cell_type": "markdown",
   "id": "9581f2ae",
   "metadata": {},
   "source": [
    "## Домашнее задание \"Библиотека numpy. Вычислительные задачи\"\n",
    "\n",
    "### Задание 1.\n",
    "\n",
    "Создайте numpy array с элементами от числа N до 0\n",
    "(например, для N = 10 это будет array([9, 8, 7, 6, 5, 4, 3, 2, 1, 0]))."
   ]
  },
  {
   "cell_type": "code",
   "execution_count": 3,
   "id": "295a931c",
   "metadata": {},
   "outputs": [
    {
     "name": "stdout",
     "output_type": "stream",
     "text": [
      "Введите количество элементов массива N (больше 0): 15\n"
     ]
    },
    {
     "data": {
      "text/plain": [
       "array([14, 13, 12, 11, 10,  9,  8,  7,  6,  5,  4,  3,  2,  1,  0])"
      ]
     },
     "execution_count": 3,
     "metadata": {},
     "output_type": "execute_result"
    }
   ],
   "source": [
    "import numpy as np\n",
    "number_el = int(input('Введите количество элементов массива N (больше 0): '))\n",
    "numpy_array = np.arange(number_el-1, -1, -1)\n",
    "\n",
    "numpy_array"
   ]
  },
  {
   "cell_type": "markdown",
   "id": "5dad6d19",
   "metadata": {},
   "source": [
    "### Задание 2\n",
    "\n",
    "Создайте диагональную матрицу с элементами от N до 0. Посчитайте сумму ее значений на диагонали.\n"
   ]
  },
  {
   "cell_type": "code",
   "execution_count": 17,
   "id": "2019a909",
   "metadata": {},
   "outputs": [
    {
     "name": "stdout",
     "output_type": "stream",
     "text": [
      "Введите количество элементов массива N (больше 0): 11\n",
      "[[11  0  0  0  0  0  0  0  0  0  0  0]\n",
      " [ 0 10  0  0  0  0  0  0  0  0  0  0]\n",
      " [ 0  0  9  0  0  0  0  0  0  0  0  0]\n",
      " [ 0  0  0  8  0  0  0  0  0  0  0  0]\n",
      " [ 0  0  0  0  7  0  0  0  0  0  0  0]\n",
      " [ 0  0  0  0  0  6  0  0  0  0  0  0]\n",
      " [ 0  0  0  0  0  0  5  0  0  0  0  0]\n",
      " [ 0  0  0  0  0  0  0  4  0  0  0  0]\n",
      " [ 0  0  0  0  0  0  0  0  3  0  0  0]\n",
      " [ 0  0  0  0  0  0  0  0  0  2  0  0]\n",
      " [ 0  0  0  0  0  0  0  0  0  0  1  0]\n",
      " [ 0  0  0  0  0  0  0  0  0  0  0  0]]\n",
      "\n",
      "Сумма значений = 66\n"
     ]
    }
   ],
   "source": [
    "import numpy as np\n",
    "number_el = int(input('Введите количество элементов массива N (больше 0): '))\n",
    "numpy_array2 = np.diag(np.arange(number_el, -1, -1), k = 0)\n",
    "# в данном случае можно посчитать просто сумму матрицы (все остальные элементы не по диоганали = 0)\n",
    "sum_ = np.sum(numpy_array2)\n",
    "print(numpy_array2)\n",
    "print(f'\\nСумма значений = {sum_}')"
   ]
  },
  {
   "cell_type": "code",
   "execution_count": 22,
   "id": "e27a6d3b",
   "metadata": {},
   "outputs": [
    {
     "name": "stdout",
     "output_type": "stream",
     "text": [
      "Введите количество элементов массива N (больше 0): 11\n",
      "[[11  0  0  0  0  0  0  0  0  0  0  0]\n",
      " [ 0 10  0  0  0  0  0  0  0  0  0  0]\n",
      " [ 0  0  9  0  0  0  0  0  0  0  0  0]\n",
      " [ 0  0  0  8  0  0  0  0  0  0  0  0]\n",
      " [ 0  0  0  0  7  0  0  0  0  0  0  0]\n",
      " [ 0  0  0  0  0  6  0  0  0  0  0  0]\n",
      " [ 0  0  0  0  0  0  5  0  0  0  0  0]\n",
      " [ 0  0  0  0  0  0  0  4  0  0  0  0]\n",
      " [ 0  0  0  0  0  0  0  0  3  0  0  0]\n",
      " [ 0  0  0  0  0  0  0  0  0  2  0  0]\n",
      " [ 0  0  0  0  0  0  0  0  0  0  1  0]\n",
      " [ 0  0  0  0  0  0  0  0  0  0  0  0]]\n",
      "\n",
      "Сумма значений = 66\n"
     ]
    }
   ],
   "source": [
    "# В данном случае использую np.trace()\n",
    "\n",
    "import numpy as np\n",
    "number_el = int(input('Введите количество элементов массива N (больше 0): '))\n",
    "numpy_array2a = np.diag(np.arange(number_el, -1, -1), k = 0)\n",
    "sum_2a = np.trace(numpy_array2)\n",
    "\n",
    "print(numpy_array2a)\n",
    "print(f'\\nСумма значений = {sum_2a}')"
   ]
  },
  {
   "cell_type": "markdown",
   "id": "17f0eaeb",
   "metadata": {},
   "source": [
    "### Задание 3\n",
    "\n",
    "Решите систему уравнений:\n",
    "4x + 2y + z = 4\n",
    "x + 3y = 12\n",
    "5y + 4z = -3\n"
   ]
  },
  {
   "cell_type": "code",
   "execution_count": 24,
   "id": "92bbd8ff",
   "metadata": {},
   "outputs": [
    {
     "data": {
      "text/plain": [
       "array([ 0.46666667,  3.84444444, -5.55555556])"
      ]
     },
     "execution_count": 24,
     "metadata": {},
     "output_type": "execute_result"
    }
   ],
   "source": [
    "import numpy as np\n",
    "from numpy import linalg as LA\n",
    "\n",
    "a3 = [[4, 2, 1],\n",
    "     [1, 3, 0],\n",
    "     [0, 5, 4]]\n",
    "\n",
    "b3 = [4, 12, -3]\n",
    " \n",
    "x3 = LA.solve(a, b)\n",
    "x3\n"
   ]
  },
  {
   "cell_type": "markdown",
   "id": "5d1a060b",
   "metadata": {},
   "source": [
    "### Задание 4\n",
    "\n",
    "Из материалов занятия раздел “Задача 4 домашнего задания”\n",
    "\n",
    "Имеется матрица покупок в интернет-магазине. Столбец А - ID пользователя. Остальные столбцы - количество покупок категорий товаров этим пользователем:\n",
    "\n",
    "users_stats = np.array(\n",
    "    [\n",
    "        [2, 1, 0, 0, 0, 0],\n",
    "        [1, 1, 2, 1, 0, 0],\n",
    "        [2, 0, 1, 0, 0, 0],\n",
    "        [1, 1, 2, 1, 0, 1],\n",
    "        [0, 0, 1, 2, 0, 0],\n",
    "        [0, 0, 0, 0, 0, 5],\n",
    "        [1, 0, 0, 0, 0, 0],\n",
    "        [0, 1, 1, 0, 0, 0],\n",
    "        [0, 0, 0, 1, 1, 3],\n",
    "        [1, 0, 0, 2, 1, 4]\n",
    "    ], \n",
    "    np.int32\n",
    ")\n",
    "\n",
    "\n",
    "На сайт заходит очередной посетитель, о покупках которого известно следующее:\n",
    "next_user_stats = np.array([0, 1, 2, 0, 0, 0])\n",
    "\n",
    "\n",
    "Найдите самого похожего пользователя. Т. е. посчитайте косинусное сходство между этим пользователем и всеми пользователями из массива user_stats"
   ]
  },
  {
   "cell_type": "code",
   "execution_count": 2,
   "id": "8cfef617",
   "metadata": {},
   "outputs": [],
   "source": [
    "import numpy as np\n",
    "\n",
    "users_stats = np.array(\n",
    "    [\n",
    "        [2, 1, 0, 0, 0, 0],\n",
    "        [1, 1, 2, 1, 0, 0],\n",
    "        [2, 0, 1, 0, 0, 0],\n",
    "        [1, 1, 2, 1, 0, 1],\n",
    "        [0, 0, 1, 2, 0, 0],\n",
    "        [0, 0, 0, 0, 0, 5],\n",
    "        [1, 0, 0, 0, 0, 0],\n",
    "        [0, 1, 1, 0, 0, 0],\n",
    "        [0, 0, 0, 1, 1, 3],\n",
    "        [1, 0, 0, 2, 1, 4]\n",
    "    ], \n",
    "    np.int32\n",
    ")\n",
    "\n",
    "# next_user_stats = np.array([0, 1, 2, 0, 0, 0])"
   ]
  },
  {
   "cell_type": "code",
   "execution_count": 3,
   "id": "7d48ad63",
   "metadata": {},
   "outputs": [],
   "source": [
    "def cosine(a, b):\n",
    "    \"\"\"\n",
    "    Подсчет косинуса угла между векторами a, b по их координатам\n",
    "    \"\"\"\n",
    "\n",
    "    # длины векторов\n",
    "    aLength = np.linalg.norm(a)\n",
    "    bLength = np.linalg.norm(b)\n",
    "\n",
    "    return np.dot(a, b) / (aLength * bLength)"
   ]
  },
  {
   "cell_type": "code",
   "execution_count": 64,
   "id": "5dace4d7",
   "metadata": {},
   "outputs": [
    {
     "name": "stdout",
     "output_type": "stream",
     "text": [
      "Косинусы углов между векторами статистики и следующего покупателя = [0.19999999999999996, 0.8451542547285165, 0.3999999999999999, 0.7905694150420948, 0.3999999999999999, 0.0, 0.0, 0.9486832980505138, 0.0, 0.0]\n",
      "\n",
      "Самый похожий пользователь № 7\n",
      "С максимальным косинусом угла между векторами = 0.9486832980505138\n",
      "И значением статистики = [0 1 1 0 0 0]\n"
     ]
    }
   ],
   "source": [
    "dict_users = {}\n",
    "\n",
    "for i in range(0, len(users_stats)):\n",
    "    dict_users[i] = cosine(users_stats[i], np.array([0, 1, 2, 0, 0, 0]))\n",
    "\n",
    "ind_users = list(dict_users.values()).index(max(dict_users.values()))\n",
    "\n",
    "print(f'Косинусы углов между векторами статистики и следующего покупателя = {list(dict_users.values())}\\n')\n",
    "\n",
    "print(f'Самый похожий пользователь № {ind_users}\\n\\\n",
    "С максимальным косинусом угла между векторами = {max(dict_users.values())}\\n\\\n",
    "И значением статистики = {users_stats[ind_users]}')"
   ]
  }
 ],
 "metadata": {
  "kernelspec": {
   "display_name": "Python 3",
   "language": "python",
   "name": "python3"
  },
  "language_info": {
   "codemirror_mode": {
    "name": "ipython",
    "version": 3
   },
   "file_extension": ".py",
   "mimetype": "text/x-python",
   "name": "python",
   "nbconvert_exporter": "python",
   "pygments_lexer": "ipython3",
   "version": "3.8.8"
  }
 },
 "nbformat": 4,
 "nbformat_minor": 5
}

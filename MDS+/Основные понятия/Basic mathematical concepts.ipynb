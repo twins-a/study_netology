{
 "cells": [
  {
   "cell_type": "markdown",
   "id": "93718f6a",
   "metadata": {},
   "source": [
    "# Решение по домашнему заданию: \"Основные математические понятия\""
   ]
  },
  {
   "cell_type": "code",
   "execution_count": 4,
   "id": "199b5a82",
   "metadata": {},
   "outputs": [],
   "source": [
    "import numpy as np\n",
    "import matplotlib.pyplot as plt"
   ]
  },
  {
   "cell_type": "markdown",
   "id": "9e65d47e",
   "metadata": {},
   "source": [
    "## Даны векторы x = (1,1), y = (2, 0) и z = (0,2) \n",
    "\n",
    "Необходимо в Python: \n",
    "\n",
    "●    Изобразить векторы на экране \n",
    "\n",
    "●    Изобразить точку x + y + z \n",
    "\n",
    "●    Найти угол между векторами x и y \n"
   ]
  },
  {
   "cell_type": "code",
   "execution_count": 31,
   "id": "9998de08",
   "metadata": {},
   "outputs": [],
   "source": [
    "# определяю векторы\n",
    "x=np.array([1,1])\n",
    "y=np.array([2,0])\n",
    "z=np.array([0,2])"
   ]
  },
  {
   "cell_type": "code",
   "execution_count": 32,
   "id": "8bc05ab3",
   "metadata": {},
   "outputs": [
    {
     "data": {
      "image/png": "[encoded data removed]",
      "text/plain": [
       "<Figure size 432x288 with 1 Axes>"
      ]
     },
     "metadata": {
      "needs_background": "light"
     },
     "output_type": "display_data"
    }
   ],
   "source": [
    "# вывожу векторы (точки)\n",
    "plt.figure()\n",
    "plt.plot(x[0],x[1],'bo')\n",
    "plt.plot(y[0],y[1],'ro')\n",
    "plt.plot(z[0],z[1],'go')\n",
    "plt.grid()\n",
    "plt.show()"
   ]
  },
  {
   "cell_type": "code",
   "execution_count": 15,
   "id": "59b844dc",
   "metadata": {},
   "outputs": [
    {
     "data": {
      "text/plain": [
       "array([3, 3])"
      ]
     },
     "execution_count": 15,
     "metadata": {},
     "output_type": "execute_result"
    }
   ],
   "source": [
    "# вычисляю сумму векторов\n",
    "q=x+y+z\n",
    "q"
   ]
  },
  {
   "cell_type": "code",
   "execution_count": 33,
   "id": "9de4914c",
   "metadata": {},
   "outputs": [
    {
     "data": {
      "image/png": "[encoded data removed]",
      "text/plain": [
       "<Figure size 432x288 with 1 Axes>"
      ]
     },
     "metadata": {
      "needs_background": "light"
     },
     "output_type": "display_data"
    }
   ],
   "source": [
    "# вывод первоначальных векторов и нового вычисленного\n",
    "plt.figure()\n",
    "plt.plot(x[0],x[1],'bo')\n",
    "plt.plot(y[0],y[1],'ro')\n",
    "plt.plot(z[0],z[1],'go')\n",
    "plt.plot(q[0],q[1],'m*')\n",
    "plt.grid()\n",
    "plt.show()"
   ]
  },
  {
   "cell_type": "code",
   "execution_count": 43,
   "id": "2c083774",
   "metadata": {},
   "outputs": [
    {
     "data": {
      "text/plain": [
       "45.00000000000001"
      ]
     },
     "execution_count": 43,
     "metadata": {},
     "output_type": "execute_result"
    }
   ],
   "source": [
    "# Нахождение cos угла между векторами x и y\n",
    "# cos α = x·y / |x|·|y|\n",
    "\n",
    "\n",
    "# 1. НайдУ скалярное произведение векторов:\n",
    "ScPr = np.dot(x,y)\n",
    "\n",
    "# 2. НайдУ модули векторов (нормы):\n",
    "x_m = np.linalg.norm(x)\n",
    "y_m = np.linalg.norm(y)\n",
    "\n",
    "# 3. Найду cos угла между векторами:\n",
    "cos_ugla_xy=ScPr/(x_m*y_m)\n",
    "cos_ugla_xy\n",
    "\n",
    "# 4. Теперь угол в градусах:\n",
    "ugol_grad=np.rad2deg(np.arccos(cos_ugla_xy))\n",
    "ugol_grad"
   ]
  },
  {
   "cell_type": "code",
   "execution_count": null,
   "id": "390efeb8",
   "metadata": {},
   "outputs": [],
   "source": []
  },
  {
   "cell_type": "code",
   "execution_count": null,
   "id": "820934dc",
   "metadata": {},
   "outputs": [],
   "source": []
  },
  {
   "cell_type": "code",
   "execution_count": null,
   "id": "27fd0d12",
   "metadata": {},
   "outputs": [],
   "source": []
  },
  {
   "cell_type": "markdown",
   "id": "09c6f7c0",
   "metadata": {},
   "source": [
    "## Необходимо в Python: \n",
    "\n",
    "●  Создайте матрицу 3 на 3, заполненную числами от 1 до 9 \n",
    "\n",
    "●  Прибавьте к ней матрицу с единицами на диагонали  \n",
    "\n",
    "●  Умножьте полученную матрицу на вектор (1, 2, 3) "
   ]
  },
  {
   "cell_type": "code",
   "execution_count": 45,
   "id": "954424d5",
   "metadata": {},
   "outputs": [
    {
     "data": {
      "text/plain": [
       "array([[1, 2, 3],\n",
       "       [4, 5, 6],\n",
       "       [7, 8, 9]])"
      ]
     },
     "execution_count": 45,
     "metadata": {},
     "output_type": "execute_result"
    }
   ],
   "source": [
    "# Создаю матрицу 3 на 3\n",
    "Mt1=np.array([[1,2,3],[4,5,6],[7,8,9]])\n",
    "Mt1"
   ]
  },
  {
   "cell_type": "code",
   "execution_count": 47,
   "id": "5e58b1df",
   "metadata": {},
   "outputs": [
    {
     "data": {
      "text/plain": [
       "array([[1, 0, 0],\n",
       "       [0, 1, 0],\n",
       "       [0, 0, 1]])"
      ]
     },
     "execution_count": 47,
     "metadata": {},
     "output_type": "execute_result"
    }
   ],
   "source": [
    "# Создаю диагональную единичную матрицу с 1 вручную\n",
    "Mt2=np.array([[1,0,0],[0,1,0],[0,0,1]])\n",
    "Mt2"
   ]
  },
  {
   "cell_type": "code",
   "execution_count": 53,
   "id": "3070cd25",
   "metadata": {},
   "outputs": [
    {
     "data": {
      "text/plain": [
       "array([[1., 0., 0.],\n",
       "       [0., 1., 0.],\n",
       "       [0., 0., 1.]])"
      ]
     },
     "execution_count": 53,
     "metadata": {},
     "output_type": "execute_result"
    }
   ],
   "source": [
    "# а теперь другим вариантом\n",
    "mt3=np.eye(3)\n",
    "mt3"
   ]
  },
  {
   "cell_type": "code",
   "execution_count": 54,
   "id": "5dd0062c",
   "metadata": {},
   "outputs": [
    {
     "data": {
      "text/plain": [
       "array([[ 2,  2,  3],\n",
       "       [ 4,  6,  6],\n",
       "       [ 7,  8, 10]])"
      ]
     },
     "execution_count": 54,
     "metadata": {},
     "output_type": "execute_result"
    }
   ],
   "source": [
    "# Сложение матриц\n",
    "mt4=Mt1+Mt2\n",
    "mt4"
   ]
  },
  {
   "cell_type": "code",
   "execution_count": 81,
   "id": "c2141d16",
   "metadata": {},
   "outputs": [
    {
     "data": {
      "text/plain": [
       "array([[1],\n",
       "       [2],\n",
       "       [3]])"
      ]
     },
     "execution_count": 81,
     "metadata": {},
     "output_type": "execute_result"
    }
   ],
   "source": [
    "# создаю вектор\n",
    "v1 = np.array([ [1], [2], [3] ])\n",
    "v1"
   ]
  },
  {
   "cell_type": "code",
   "execution_count": 82,
   "id": "0ccacb01",
   "metadata": {},
   "outputs": [
    {
     "data": {
      "text/plain": [
       "array([[15],\n",
       "       [34],\n",
       "       [53]])"
      ]
     },
     "execution_count": 82,
     "metadata": {},
     "output_type": "execute_result"
    }
   ],
   "source": [
    "# перемножение матрицы и вектора\n",
    "mt5=np.dot(mt4,v1)\n",
    "mt5"
   ]
  },
  {
   "cell_type": "code",
   "execution_count": 83,
   "id": "e73c4499",
   "metadata": {},
   "outputs": [
    {
     "data": {
      "text/plain": [
       "array([[15],\n",
       "       [34],\n",
       "       [53]])"
      ]
     },
     "execution_count": 83,
     "metadata": {},
     "output_type": "execute_result"
    }
   ],
   "source": [
    "# или можно еще так:\n",
    "mt6=mt4 @ v1\n",
    "mt6"
   ]
  },
  {
   "cell_type": "code",
   "execution_count": null,
   "id": "25b03abf",
   "metadata": {},
   "outputs": [],
   "source": []
  },
  {
   "cell_type": "code",
   "execution_count": null,
   "id": "b79c504f",
   "metadata": {},
   "outputs": [],
   "source": []
  },
  {
   "cell_type": "code",
   "execution_count": null,
   "id": "1e44e37a",
   "metadata": {},
   "outputs": [],
   "source": []
  },
  {
   "cell_type": "markdown",
   "id": "e75adc2d",
   "metadata": {},
   "source": [
    "## Необходимо в Python: \n",
    "\n",
    " f (x) =  3x(x**2+x)**3\n",
    "\n",
    "Посчитайте значение первой и второй производной функции \n",
    "\n",
    "В точке x = 1"
   ]
  },
  {
   "cell_type": "code",
   "execution_count": 86,
   "id": "4d46ac00",
   "metadata": {},
   "outputs": [],
   "source": [
    "import sympy as sym"
   ]
  },
  {
   "cell_type": "code",
   "execution_count": 88,
   "id": "159a5714",
   "metadata": {},
   "outputs": [],
   "source": [
    "x1=sym.Symbol('x1')"
   ]
  },
  {
   "cell_type": "code",
   "execution_count": 92,
   "id": "8fc8fa00",
   "metadata": {},
   "outputs": [
    {
     "data": {
      "text/latex": [
       "$\\displaystyle 3 x_{1} \\left(x_{1}^{2} + x_{1}\\right)^{3}$"
      ],
      "text/plain": [
       "3*x1*(x1**2 + x1)**3"
      ]
     },
     "execution_count": 92,
     "metadata": {},
     "output_type": "execute_result"
    }
   ],
   "source": [
    "3*x1*(x1**2+x1)**3"
   ]
  },
  {
   "cell_type": "code",
   "execution_count": 98,
   "id": "138a162c",
   "metadata": {},
   "outputs": [
    {
     "data": {
      "text/latex": [
       "$\\displaystyle 132$"
      ],
      "text/plain": [
       "132"
      ]
     },
     "execution_count": 98,
     "metadata": {},
     "output_type": "execute_result"
    }
   ],
   "source": [
    "# Считаю первую производную:\n",
    "res1=sym.diff(3*x1*(x1**2+x1)**3,x1,1)\n",
    "res1.subs(x1,1)"
   ]
  },
  {
   "cell_type": "code",
   "execution_count": 99,
   "id": "577e7a18",
   "metadata": {},
   "outputs": [
    {
     "data": {
      "text/latex": [
       "$\\displaystyle 612$"
      ],
      "text/plain": [
       "612"
      ]
     },
     "execution_count": 99,
     "metadata": {},
     "output_type": "execute_result"
    }
   ],
   "source": [
    "# Считаю вторую производную:\n",
    "res1=sym.diff(3*x1*(x1**2+x1)**3,x1,2)\n",
    "res1.subs(x1,1)"
   ]
  }
 ],
 "metadata": {
  "kernelspec": {
   "display_name": "Python 3",
   "language": "python",
   "name": "python3"
  },
  "language_info": {
   "codemirror_mode": {
    "name": "ipython",
    "version": 3
   },
   "file_extension": ".py",
   "mimetype": "text/x-python",
   "name": "python",
   "nbconvert_exporter": "python",
   "pygments_lexer": "ipython3",
   "version": "3.8.8"
  }
 },
 "nbformat": 4,
 "nbformat_minor": 5
}

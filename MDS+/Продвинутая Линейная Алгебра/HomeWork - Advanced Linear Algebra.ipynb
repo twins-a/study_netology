{
 "cells": [
  {
   "cell_type": "markdown",
   "id": "d137c1b9",
   "metadata": {},
   "source": [
    "### Дан объект в 2d пространстве\n",
    "\n",
    "При помощи линейных отображений:\n",
    "● Уменьшить объект в два раза\n",
    "● Повернуть на 130 градусов\n",
    "● Отразить объект относительно прямой y=x\n",
    "● Вычислить определитель композиции преобразований (итоговой матрицы реализующей все три отображения)"
   ]
  },
  {
   "cell_type": "code",
   "execution_count": 1,
   "id": "5d50e8de",
   "metadata": {},
   "outputs": [],
   "source": [
    "import numpy as np\n",
    "import matplotlib.pyplot as plt"
   ]
  },
  {
   "cell_type": "code",
   "execution_count": 2,
   "id": "a2f876c6",
   "metadata": {},
   "outputs": [
    {
     "data": {
      "text/plain": [
       "[[-100, -100, 1],\n",
       " [-100, 100, 1],\n",
       " [100, 100, 1],\n",
       " [0, 0, 1],\n",
       " [100, -100, 1],\n",
       " [-100, -100, 1]]"
      ]
     },
     "execution_count": 2,
     "metadata": {},
     "output_type": "execute_result"
    }
   ],
   "source": [
    "# Иинициализация...\n",
    "A = [[-100, -100, 1],\n",
    "[-100, 100, 1],\n",
    "[100, 100, 1],\n",
    "[0, 0, 1],\n",
    "[100, -100, 1],\n",
    "[-100, -100, 1]]\n",
    "A"
   ]
  },
  {
   "cell_type": "code",
   "execution_count": 33,
   "id": "0208a80d",
   "metadata": {},
   "outputs": [
    {
     "name": "stdout",
     "output_type": "stream",
     "text": [
      "[-100 -100  100    0  100 -100] [-100  100  100    0 -100 -100]\n"
     ]
    }
   ],
   "source": [
    "A = np.array(A)\n",
    "x = A[:,0]\n",
    "y = A[:,1]\n",
    "print(x, y)"
   ]
  },
  {
   "cell_type": "code",
   "execution_count": 4,
   "id": "5645f05a",
   "metadata": {},
   "outputs": [
    {
     "data": {
      "text/plain": [
       "(-200.0, 200.0)"
      ]
     },
     "execution_count": 4,
     "metadata": {},
     "output_type": "execute_result"
    },
    {
     "data": {
      "image/png": "[encoded data removed]",
      "text/plain": [
       "<Figure size 432x288 with 1 Axes>"
      ]
     },
     "metadata": {
      "needs_background": "light"
     },
     "output_type": "display_data"
    }
   ],
   "source": [
    "plt.plot(x, y)\n",
    "plt.ylim([-200, 200])\n",
    "plt.xlim([-200, 200])"
   ]
  },
  {
   "cell_type": "code",
   "execution_count": null,
   "id": "2078235c",
   "metadata": {},
   "outputs": [],
   "source": []
  },
  {
   "cell_type": "code",
   "execution_count": 94,
   "id": "32bbd7a4",
   "metadata": {},
   "outputs": [
    {
     "data": {
      "text/plain": [
       "array([[0.5, 0. , 0. , 0. , 0. , 0. ],\n",
       "       [0. , 0.5, 0. , 0. , 0. , 0. ],\n",
       "       [0. , 0. , 0.5, 0. , 0. , 0. ],\n",
       "       [0. , 0. , 0. , 0.5, 0. , 0. ],\n",
       "       [0. , 0. , 0. , 0. , 0.5, 0. ],\n",
       "       [0. , 0. , 0. , 0. , 0. , 0.5]])"
      ]
     },
     "execution_count": 94,
     "metadata": {},
     "output_type": "execute_result"
    }
   ],
   "source": [
    "# 1. Уменьшить объект в 2 раза:\n",
    "# Создаю диагональную матрицу со значением 0,5 по диагонали\n",
    "\n",
    "D1 = np.array([[0.5, 0, 0, 0, 0, 0],\n",
    "               [0, 0.5, 0, 0, 0, 0],\n",
    "               [0, 0, 0.5, 0, 0, 0],\n",
    "               [0, 0, 0, 0.5, 0, 0],\n",
    "               [0, 0, 0, 0, 0.5, 0],\n",
    "               [0, 0, 0, 0, 0, 0.5]\n",
    "              ])\n",
    "D1"
   ]
  },
  {
   "cell_type": "code",
   "execution_count": 95,
   "id": "96b3caea",
   "metadata": {},
   "outputs": [],
   "source": [
    "# Перемножаю диагональную матрицу на вектора\n",
    "x1=D1@x\n",
    "y1=D1@y"
   ]
  },
  {
   "cell_type": "code",
   "execution_count": 96,
   "id": "71956ca3",
   "metadata": {},
   "outputs": [
    {
     "data": {
      "text/plain": [
       "(-200.0, 200.0)"
      ]
     },
     "execution_count": 96,
     "metadata": {},
     "output_type": "execute_result"
    },
    {
     "data": {
      "image/png": "[encoded data removed]",
      "text/plain": [
       "<Figure size 432x288 with 1 Axes>"
      ]
     },
     "metadata": {
      "needs_background": "light"
     },
     "output_type": "display_data"
    }
   ],
   "source": [
    "# Визуализирую\n",
    "plt.plot(x1, y1)\n",
    "plt.grid()\n",
    "plt.ylim([-200, 200])\n",
    "plt.xlim([-200, 200])"
   ]
  },
  {
   "cell_type": "code",
   "execution_count": null,
   "id": "23d0102c",
   "metadata": {},
   "outputs": [],
   "source": []
  },
  {
   "cell_type": "code",
   "execution_count": null,
   "id": "fe37c271",
   "metadata": {},
   "outputs": [],
   "source": []
  },
  {
   "cell_type": "code",
   "execution_count": 188,
   "id": "953d4d79",
   "metadata": {},
   "outputs": [
    {
     "data": {
      "text/plain": [
       "array([[ 0,  1],\n",
       "       [-1,  0]])"
      ]
     },
     "execution_count": 188,
     "metadata": {},
     "output_type": "execute_result"
    }
   ],
   "source": [
    "# 2а. Сперва поверну на 90 градусов по часовой. 90  легче проверить (нагляднее)\n",
    "\n",
    "#D2 = np.array([[cos(t), sin(t)],\n",
    "#               [-sin(t), cos(t)]])\n",
    "# где t=90 градусов в радианах = 1,57\n",
    "\n",
    "D2 = np.array([[0, 1],\n",
    "               [-1, 0]])\n",
    "D2"
   ]
  },
  {
   "cell_type": "code",
   "execution_count": 189,
   "id": "0245d834",
   "metadata": {},
   "outputs": [
    {
     "name": "stdout",
     "output_type": "stream",
     "text": [
      "[-50.0, 50.0, 50.0, 0.0, -50.0, -50.0] [50.0, 50.0, -50.0, 0.0, -50.0, 50.0]\n"
     ]
    }
   ],
   "source": [
    "x2=[]\n",
    "y2=[]\n",
    "for i in range(len(x1)):\n",
    "    # print(x1[i], y1[i])\n",
    "    vr=np.array([[x1[i]], [y1[i]]])\n",
    "    vr1=D2@vr\n",
    "    x2.extend(vr1[0])\n",
    "    y2.extend(vr1[1])\n",
    "print(x2, y2)"
   ]
  },
  {
   "cell_type": "code",
   "execution_count": 190,
   "id": "cf785f14",
   "metadata": {},
   "outputs": [
    {
     "data": {
      "text/plain": [
       "(-200.0, 200.0)"
      ]
     },
     "execution_count": 190,
     "metadata": {},
     "output_type": "execute_result"
    },
    {
     "data": {
      "image/png": "[encoded data removed]",
      "text/plain": [
       "<Figure size 432x288 with 1 Axes>"
      ]
     },
     "metadata": {
      "needs_background": "light"
     },
     "output_type": "display_data"
    }
   ],
   "source": [
    "# Визуализирую для 90\n",
    "plt.plot(x2, y2)\n",
    "plt.grid()\n",
    "plt.ylim([-200, 200])\n",
    "plt.xlim([-200, 200])"
   ]
  },
  {
   "cell_type": "code",
   "execution_count": null,
   "id": "e6d3861a",
   "metadata": {},
   "outputs": [],
   "source": [
    "# Вроде все правильно..."
   ]
  },
  {
   "cell_type": "code",
   "execution_count": null,
   "id": "1e85985a",
   "metadata": {},
   "outputs": [],
   "source": []
  },
  {
   "cell_type": "code",
   "execution_count": null,
   "id": "b58b0cbb",
   "metadata": {},
   "outputs": [],
   "source": []
  },
  {
   "cell_type": "code",
   "execution_count": 195,
   "id": "62393b57",
   "metadata": {},
   "outputs": [
    {
     "data": {
      "text/plain": [
       "array([[-0.64,  0.77],\n",
       "       [-0.77, -0.64]])"
      ]
     },
     "execution_count": 195,
     "metadata": {},
     "output_type": "execute_result"
    }
   ],
   "source": [
    "# 2б. Теперь поверну на 130 градусов по часовой.\n",
    "\n",
    "#D3 = np.array([[cos(t), sin(t)],\n",
    "#               [-sin(t), cos(t)]])\n",
    "# где t=130 градусов в радианах = 2,27\n",
    "\n",
    "D3 = np.array([[-0.64, 0.77],\n",
    "               [-0.77, -0.64]])\n",
    "D3"
   ]
  },
  {
   "cell_type": "code",
   "execution_count": 196,
   "id": "3cc82335",
   "metadata": {},
   "outputs": [
    {
     "name": "stdout",
     "output_type": "stream",
     "text": [
      "[-6.5, 70.5, 6.5, 0.0, -70.5, -6.5] [70.5, 6.5, -70.5, 0.0, -6.5, 70.5]\n"
     ]
    }
   ],
   "source": [
    "x3=[]\n",
    "y3=[]\n",
    "for i in range(len(x1)):\n",
    "    vr=np.array([[x1[i]], [y1[i]]])\n",
    "    vr1=D3@vr\n",
    "    x3.extend(vr1[0])\n",
    "    y3.extend(vr1[1])\n",
    "print(x3, y3)"
   ]
  },
  {
   "cell_type": "code",
   "execution_count": 197,
   "id": "ea09a852",
   "metadata": {},
   "outputs": [
    {
     "data": {
      "text/plain": [
       "(-200.0, 200.0)"
      ]
     },
     "execution_count": 197,
     "metadata": {},
     "output_type": "execute_result"
    },
    {
     "data": {
      "image/png": "[encoded data removed]",
      "text/plain": [
       "<Figure size 432x288 with 1 Axes>"
      ]
     },
     "metadata": {
      "needs_background": "light"
     },
     "output_type": "display_data"
    }
   ],
   "source": [
    "# Визуализирую для 130 градусов\n",
    "plt.plot(x3, y3)\n",
    "plt.grid()\n",
    "plt.ylim([-200, 200])\n",
    "plt.xlim([-200, 200])"
   ]
  },
  {
   "cell_type": "code",
   "execution_count": null,
   "id": "b50fdd31",
   "metadata": {},
   "outputs": [],
   "source": []
  },
  {
   "cell_type": "code",
   "execution_count": null,
   "id": "93711a9c",
   "metadata": {},
   "outputs": [],
   "source": []
  },
  {
   "cell_type": "code",
   "execution_count": null,
   "id": "aeca358c",
   "metadata": {},
   "outputs": [],
   "source": [
    "# Отразить объект относительно прямой y=x\n",
    "\n"
   ]
  },
  {
   "cell_type": "code",
   "execution_count": 200,
   "id": "b0af4758",
   "metadata": {},
   "outputs": [
    {
     "data": {
      "text/plain": [
       "array([[0, 1],\n",
       "       [1, 0]])"
      ]
     },
     "execution_count": 200,
     "metadata": {},
     "output_type": "execute_result"
    }
   ],
   "source": [
    "D4 = np.array([[0, 1],\n",
    "               [1, 0]])\n",
    "D4"
   ]
  },
  {
   "cell_type": "code",
   "execution_count": 203,
   "id": "94801960",
   "metadata": {},
   "outputs": [
    {
     "name": "stdout",
     "output_type": "stream",
     "text": [
      "[70.5, 6.5, -70.5, 0.0, -6.5, 70.5] [-6.5, 70.5, 6.5, 0.0, -70.5, -6.5]\n"
     ]
    }
   ],
   "source": [
    "x4=[]\n",
    "y4=[]\n",
    "for i in range(len(x3)):\n",
    "    vr=np.array([[x3[i]], [y3[i]]])\n",
    "    vr1=D4@vr\n",
    "    x4.extend(vr1[0])\n",
    "    y4.extend(vr1[1])\n",
    "print(x4, y4)"
   ]
  },
  {
   "cell_type": "code",
   "execution_count": 204,
   "id": "096c7476",
   "metadata": {},
   "outputs": [
    {
     "data": {
      "text/plain": [
       "(-200.0, 200.0)"
      ]
     },
     "execution_count": 204,
     "metadata": {},
     "output_type": "execute_result"
    },
    {
     "data": {
      "image/png": "[encoded data removed]",
      "text/plain": [
       "<Figure size 432x288 with 1 Axes>"
      ]
     },
     "metadata": {
      "needs_background": "light"
     },
     "output_type": "display_data"
    }
   ],
   "source": [
    "# Визуализирую\n",
    "plt.plot(x4, y4)\n",
    "plt.grid()\n",
    "plt.ylim([-200, 200])\n",
    "plt.xlim([-200, 200])"
   ]
  },
  {
   "cell_type": "code",
   "execution_count": null,
   "id": "5187fbd5",
   "metadata": {},
   "outputs": [],
   "source": []
  },
  {
   "cell_type": "code",
   "execution_count": null,
   "id": "23886635",
   "metadata": {},
   "outputs": [],
   "source": []
  },
  {
   "cell_type": "code",
   "execution_count": null,
   "id": "8ea1cacb",
   "metadata": {},
   "outputs": [],
   "source": []
  },
  {
   "cell_type": "markdown",
   "id": "f0d73e53",
   "metadata": {},
   "source": [
    "### Решите систему уравнений, используя матричный подход\n",
    "\n",
    "x + z = 2\n",
    "\n",
    "-x + y - 2*z + w = -2\n",
    "\n",
    "4*x + z - 2*w = 0\n",
    "\n",
    "-4*x + 4*y + w = 5"
   ]
  },
  {
   "cell_type": "code",
   "execution_count": 16,
   "id": "7becf16c",
   "metadata": {},
   "outputs": [
    {
     "data": {
      "text/plain": [
       "array([[ 1,  0,  1,  0],\n",
       "       [-1,  1, -2,  1],\n",
       "       [ 4,  0,  1, -2],\n",
       "       [-4,  4,  0,  1]])"
      ]
     },
     "execution_count": 16,
     "metadata": {},
     "output_type": "execute_result"
    }
   ],
   "source": [
    "# Выразим систему уравнений через матрицу:\n",
    "\n",
    "A1 = [[1, 0, 1, 0],\n",
    "[-1, 1, -2, 1],\n",
    "[4, 0, 1, -2],\n",
    "[-4, 4, 0, 1]]\n",
    "A1 = np.array(A1)\n",
    "A1"
   ]
  },
  {
   "cell_type": "code",
   "execution_count": 17,
   "id": "cc8fda34",
   "metadata": {},
   "outputs": [
    {
     "data": {
      "text/plain": [
       "array([[ 2],\n",
       "       [-2],\n",
       "       [ 0],\n",
       "       [ 5]])"
      ]
     },
     "execution_count": 17,
     "metadata": {},
     "output_type": "execute_result"
    }
   ],
   "source": [
    "# Выразим \n",
    "B1 = np.array([[2], [-2], [0], [5]])\n",
    "B1"
   ]
  },
  {
   "cell_type": "code",
   "execution_count": 18,
   "id": "5f033ad2",
   "metadata": {},
   "outputs": [
    {
     "data": {
      "text/plain": [
       "24.999999999999996"
      ]
     },
     "execution_count": 18,
     "metadata": {},
     "output_type": "execute_result"
    }
   ],
   "source": [
    "# Вычислю определитель матрицы, чтобы понять есть решение или нет:\n",
    "# если определитель не равен 0, то решение есть\n",
    "np.linalg.det(A1)"
   ]
  },
  {
   "cell_type": "code",
   "execution_count": 19,
   "id": "4bc1a1bb",
   "metadata": {},
   "outputs": [],
   "source": [
    "# Считаю обратную матрицу:\n",
    "A1_ob=np.linalg.inv(A1)\n",
    "#A1_ob"
   ]
  },
  {
   "cell_type": "code",
   "execution_count": 20,
   "id": "c31e7b23",
   "metadata": {},
   "outputs": [
    {
     "data": {
      "text/plain": [
       "array([[0.],\n",
       "       [1.],\n",
       "       [2.],\n",
       "       [1.]])"
      ]
     },
     "execution_count": 20,
     "metadata": {},
     "output_type": "execute_result"
    }
   ],
   "source": [
    "# Умножаю обратную матрицу на вектор\n",
    "# это и будет решением нашей системы уравнений:\n",
    "A1_ob@B1"
   ]
  },
  {
   "cell_type": "code",
   "execution_count": null,
   "id": "0e91c6e2",
   "metadata": {},
   "outputs": [],
   "source": [
    "# Решение:\n",
    "x=0\n",
    "y=1\n",
    "z=2\n",
    "w=1"
   ]
  },
  {
   "cell_type": "code",
   "execution_count": null,
   "id": "7b480470",
   "metadata": {},
   "outputs": [],
   "source": []
  },
  {
   "cell_type": "code",
   "execution_count": 21,
   "id": "60de6338",
   "metadata": {},
   "outputs": [
    {
     "data": {
      "text/plain": [
       "array([[0.],\n",
       "       [1.],\n",
       "       [2.],\n",
       "       [1.]])"
      ]
     },
     "execution_count": 21,
     "metadata": {},
     "output_type": "execute_result"
    }
   ],
   "source": [
    "# Тот же результат получаю командой:\n",
    "\n",
    "np.linalg.solve(A1, B1)"
   ]
  }
 ],
 "metadata": {
  "kernelspec": {
   "display_name": "Python 3",
   "language": "python",
   "name": "python3"
  },
  "language_info": {
   "codemirror_mode": {
    "name": "ipython",
    "version": 3
   },
   "file_extension": ".py",
   "mimetype": "text/x-python",
   "name": "python",
   "nbconvert_exporter": "python",
   "pygments_lexer": "ipython3",
   "version": "3.8.8"
  }
 },
 "nbformat": 4,
 "nbformat_minor": 5
}

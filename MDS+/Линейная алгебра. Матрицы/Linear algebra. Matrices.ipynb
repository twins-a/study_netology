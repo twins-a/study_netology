{
 "cells": [
  {
   "cell_type": "markdown",
   "id": "b158feb2",
   "metadata": {},
   "source": [
    "# Домашнее задание \n",
    "\n",
    "   ●   Создайте случайную матрицу А1 размерностью 5 на 5 \n",
    "\n",
    "   ●   Транспонируйте матрицу A1 \n",
    "\n",
    "   ●   Найдите обратную матрицу для А1 \n",
    "\n",
    "   ●   Создайте диагональную матрицу - поэлементно перемножив единичную матрицу I и случайную матрицу A2 размерности 4 на 4\n",
    "\n",
    "   ●   Создайте нулевую матрицу размерности 3 на 3 \n",
    "\n",
    "   ●   Для всех полученных матриц найдите: определитель, ранг и собственные значения "
   ]
  },
  {
   "cell_type": "code",
   "execution_count": 3,
   "id": "fc8940ee",
   "metadata": {},
   "outputs": [],
   "source": [
    "# Необходимая библиотека...\n",
    "import numpy as np"
   ]
  },
  {
   "cell_type": "code",
   "execution_count": 6,
   "id": "672774d6",
   "metadata": {},
   "outputs": [
    {
     "data": {
      "text/plain": [
       "array([[0.00853445, 0.06723131, 0.81600904, 0.84717823, 0.23670117],\n",
       "       [0.7389008 , 0.44505614, 0.17245404, 0.41522343, 0.21526545],\n",
       "       [0.73321421, 0.01214914, 0.07701478, 0.13220315, 0.94759658],\n",
       "       [0.75408225, 0.5431664 , 0.36026917, 0.76939263, 0.44537235],\n",
       "       [0.35245107, 0.62088109, 0.87705033, 0.01485381, 0.57057337]])"
      ]
     },
     "execution_count": 6,
     "metadata": {},
     "output_type": "execute_result"
    }
   ],
   "source": [
    "# Создаю случайную матрицу А1 размерностью 5 на 5\n",
    "A1=np.random.random((5,5))\n",
    "A1"
   ]
  },
  {
   "cell_type": "code",
   "execution_count": 8,
   "id": "7c858279",
   "metadata": {},
   "outputs": [
    {
     "data": {
      "text/plain": [
       "array([[0.00853445, 0.7389008 , 0.73321421, 0.75408225, 0.35245107],\n",
       "       [0.06723131, 0.44505614, 0.01214914, 0.5431664 , 0.62088109],\n",
       "       [0.81600904, 0.17245404, 0.07701478, 0.36026917, 0.87705033],\n",
       "       [0.84717823, 0.41522343, 0.13220315, 0.76939263, 0.01485381],\n",
       "       [0.23670117, 0.21526545, 0.94759658, 0.44537235, 0.57057337]])"
      ]
     },
     "execution_count": 8,
     "metadata": {},
     "output_type": "execute_result"
    }
   ],
   "source": [
    "# Транспонирую матрицу A1\n",
    "# замена строк и столбцов местами\n",
    "A1tr=np.transpose(A1)\n",
    "A1tr"
   ]
  },
  {
   "cell_type": "code",
   "execution_count": 10,
   "id": "2796c33c",
   "metadata": {},
   "outputs": [
    {
     "data": {
      "text/plain": [
       "array([[ 0.81674683,  4.32959534,  0.5521722 , -3.32510814, -0.29384911],\n",
       "       [-1.71058416, -3.05014747, -1.08031721,  3.70045696,  0.7660931 ],\n",
       "       [ 1.36668999,  2.6091075 ,  0.11543095, -2.94347786,  0.55455418],\n",
       "       [ 0.20081075, -1.38430267, -0.21616576,  1.87569379, -0.66614363],\n",
       "       [-0.74912828, -3.3298926 ,  0.66267897,  2.5029405 ,  0.26541293]])"
      ]
     },
     "execution_count": 10,
     "metadata": {},
     "output_type": "execute_result"
    }
   ],
   "source": [
    "# Нахожу обратную матрицу для А1\n",
    "A1obr=np.linalg.inv(A1)\n",
    "A1obr"
   ]
  },
  {
   "cell_type": "code",
   "execution_count": 12,
   "id": "6c3b2f0f",
   "metadata": {},
   "outputs": [
    {
     "data": {
      "text/plain": [
       "array([[1., 0., 0., 0.],\n",
       "       [0., 1., 0., 0.],\n",
       "       [0., 0., 1., 0.],\n",
       "       [0., 0., 0., 1.]])"
      ]
     },
     "execution_count": 12,
     "metadata": {},
     "output_type": "execute_result"
    }
   ],
   "source": [
    "# Создаю диагональную матрицу - поэлементно перемножив единичную матрицу I и случайную матрицу A2 размерности 4 на 4\n",
    "# единичная матрица:\n",
    "AI=np.eye(4)\n",
    "AI"
   ]
  },
  {
   "cell_type": "code",
   "execution_count": 13,
   "id": "b78b22e6",
   "metadata": {},
   "outputs": [
    {
     "data": {
      "text/plain": [
       "array([[0.03200823, 0.59230656, 0.39119745, 0.1830052 ],\n",
       "       [0.07229437, 0.82284605, 0.98648022, 0.63692841],\n",
       "       [0.58839532, 0.17903347, 0.0833731 , 0.41571423],\n",
       "       [0.28298142, 0.51970777, 0.04998025, 0.42336111]])"
      ]
     },
     "execution_count": 13,
     "metadata": {},
     "output_type": "execute_result"
    }
   ],
   "source": [
    "# случайная матрица A2 размерности 4 на 4\n",
    "A2=np.random.random((4,4))\n",
    "A2"
   ]
  },
  {
   "cell_type": "code",
   "execution_count": 16,
   "id": "4742595f",
   "metadata": {},
   "outputs": [
    {
     "data": {
      "text/plain": [
       "array([[0.03200823, 0.59230656, 0.39119745, 0.1830052 ],\n",
       "       [0.07229437, 0.82284605, 0.98648022, 0.63692841],\n",
       "       [0.58839532, 0.17903347, 0.0833731 , 0.41571423],\n",
       "       [0.28298142, 0.51970777, 0.04998025, 0.42336111]])"
      ]
     },
     "execution_count": 16,
     "metadata": {},
     "output_type": "execute_result"
    }
   ],
   "source": [
    "# перемножаю две предыдущих матрицы\n",
    "A3=AI@A2\n",
    "A3\n",
    "# То есть при умножении единичной матрицы на матрицу получается та же самая матрица:"
   ]
  },
  {
   "cell_type": "code",
   "execution_count": 17,
   "id": "f1161edf",
   "metadata": {},
   "outputs": [
    {
     "data": {
      "text/plain": [
       "array([[0.03200823, 0.59230656, 0.39119745, 0.1830052 ],\n",
       "       [0.07229437, 0.82284605, 0.98648022, 0.63692841],\n",
       "       [0.58839532, 0.17903347, 0.0833731 , 0.41571423],\n",
       "       [0.28298142, 0.51970777, 0.04998025, 0.42336111]])"
      ]
     },
     "execution_count": 17,
     "metadata": {},
     "output_type": "execute_result"
    }
   ],
   "source": [
    "# поменял при умножении матрицы местами\n",
    "# получается: при умножении матрицы на единичную матрицу получается та же самая матрица:\n",
    "A4=A2@AI\n",
    "A4"
   ]
  },
  {
   "cell_type": "code",
   "execution_count": 19,
   "id": "917d80ff",
   "metadata": {},
   "outputs": [
    {
     "data": {
      "text/plain": [
       "array([[0., 0., 0., 0.],\n",
       "       [0., 0., 0., 0.],\n",
       "       [0., 0., 0., 0.],\n",
       "       [0., 0., 0., 0.]])"
      ]
     },
     "execution_count": 19,
     "metadata": {},
     "output_type": "execute_result"
    }
   ],
   "source": [
    "# Создаю нулевую матрицу размерности 3 на 3\n",
    "А0=np.zeros([4,4])\n",
    "А0"
   ]
  },
  {
   "cell_type": "code",
   "execution_count": null,
   "id": "b3090005",
   "metadata": {},
   "outputs": [],
   "source": []
  },
  {
   "cell_type": "code",
   "execution_count": null,
   "id": "a3684e81",
   "metadata": {},
   "outputs": [],
   "source": [
    "# Для всех полученных матриц найдите: определитель, ранг и собственные значения"
   ]
  },
  {
   "cell_type": "code",
   "execution_count": 20,
   "id": "03710579",
   "metadata": {},
   "outputs": [
    {
     "data": {
      "text/plain": [
       "-0.11731563230940437"
      ]
     },
     "execution_count": 20,
     "metadata": {},
     "output_type": "execute_result"
    }
   ],
   "source": [
    "# Матрица A1\n",
    "# определитель:\n",
    "np.linalg.det(A1)"
   ]
  },
  {
   "cell_type": "code",
   "execution_count": 21,
   "id": "47d5f8dd",
   "metadata": {},
   "outputs": [
    {
     "data": {
      "text/plain": [
       "5"
      ]
     },
     "execution_count": 21,
     "metadata": {},
     "output_type": "execute_result"
    }
   ],
   "source": [
    "# ранг\n",
    "np.linalg.matrix_rank(A1)"
   ]
  },
  {
   "cell_type": "code",
   "execution_count": 22,
   "id": "b40d8b67",
   "metadata": {},
   "outputs": [
    {
     "data": {
      "text/plain": [
       "(array([ 2.23572802+0.j        , -1.00414631+0.j        ,\n",
       "        -0.03169438+0.27091466j, -0.03169438-0.27091466j,\n",
       "         0.70237841+0.j        ]),\n",
       " array([[-0.41663983+0.j        , -0.59064713+0.j        ,\n",
       "          0.55604261+0.j        ,  0.55604261-0.j        ,\n",
       "         -0.07709254+0.j        ],\n",
       "        [-0.3956692 +0.j        ,  0.23446114+0.j        ,\n",
       "         -0.38803093-0.38316128j, -0.38803093+0.38316128j,\n",
       "         -0.48999534+0.j        ],\n",
       "        [-0.3711004 +0.j        ,  0.68116905+0.j        ,\n",
       "          0.34474719+0.07360756j,  0.34474719-0.07360756j,\n",
       "          0.45519798+0.j        ],\n",
       "        [-0.58455196+0.j        ,  0.12654536+0.j        ,\n",
       "         -0.19970823+0.11526345j, -0.19970823-0.11526345j,\n",
       "         -0.58797885+0.j        ],\n",
       "        [-0.43639504+0.j        , -0.34082098+0.j        ,\n",
       "         -0.45800143+0.07894936j, -0.45800143-0.07894936j,\n",
       "          0.44837148+0.j        ]]))"
      ]
     },
     "execution_count": 22,
     "metadata": {},
     "output_type": "execute_result"
    }
   ],
   "source": [
    "# собственные значения и вектора собственных значений:\n",
    "np.linalg.eig(A1)"
   ]
  },
  {
   "cell_type": "code",
   "execution_count": 23,
   "id": "a7bf94f6",
   "metadata": {},
   "outputs": [
    {
     "data": {
      "text/plain": [
       "array([ 2.23572802+0.j        , -1.00414631+0.j        ,\n",
       "       -0.03169438+0.27091466j, -0.03169438-0.27091466j,\n",
       "        0.70237841+0.j        ])"
      ]
     },
     "execution_count": 23,
     "metadata": {},
     "output_type": "execute_result"
    }
   ],
   "source": [
    "# только собственные значения:\n",
    "np.linalg.eigvals(A1)"
   ]
  },
  {
   "cell_type": "code",
   "execution_count": null,
   "id": "19c25218",
   "metadata": {},
   "outputs": [],
   "source": []
  },
  {
   "cell_type": "code",
   "execution_count": 27,
   "id": "0024b3fe",
   "metadata": {},
   "outputs": [
    {
     "name": "stdout",
     "output_type": "stream",
     "text": [
      "Определитель матрицы = -0.11731563230940437\n",
      "Ранг матрицы = 5\n",
      "Собственные значения матрицы = [ 2.23572802+0.j         -1.00414631+0.j         -0.03169438+0.27091466j\n",
      " -0.03169438-0.27091466j  0.70237841+0.j        ]\n"
     ]
    }
   ],
   "source": [
    "# Матрица A1tr\n",
    "# определитель:\n",
    "A1tr_opred=np.linalg.det(A1tr)\n",
    "print(f'Определитель матрицы = {A1tr_opred}')\n",
    "\n",
    "# ранг\n",
    "A1tr_rang=np.linalg.matrix_rank(A1tr)\n",
    "print(f'Ранг матрицы = {A1tr_rang}')\n",
    "\n",
    "# собственные значения:\n",
    "A1tr_sz=np.linalg.eigvals(A1tr)\n",
    "print(f'Собственные значения матрицы = {A1tr_sz}')"
   ]
  },
  {
   "cell_type": "code",
   "execution_count": 28,
   "id": "3efe0280",
   "metadata": {},
   "outputs": [
    {
     "name": "stdout",
     "output_type": "stream",
     "text": [
      "Определитель матрицы = -0.11731563230940437\n",
      "Ранг матрицы = 5\n",
      "Собственные значения матрицы = [-0.42600386+3.64136101j -0.42600386-3.64136101j -0.99587081+0.j\n",
      "  0.4472816 +0.j          1.42373396+0.j        ]\n"
     ]
    }
   ],
   "source": [
    "# Матрица A1obr\n",
    "# определитель:\n",
    "A1obr_opred=np.linalg.det(A1obr)\n",
    "print(f'Определитель матрицы = {A1tr_opred}')\n",
    "\n",
    "# ранг\n",
    "A1obr_rang=np.linalg.matrix_rank(A1obr)\n",
    "print(f'Ранг матрицы = {A1obr_rang}')\n",
    "\n",
    "# собственные значения:\n",
    "A1obr_sz=np.linalg.eigvals(A1obr)\n",
    "print(f'Собственные значения матрицы = {A1obr_sz}')"
   ]
  },
  {
   "cell_type": "code",
   "execution_count": 29,
   "id": "33fc76bf",
   "metadata": {},
   "outputs": [
    {
     "name": "stdout",
     "output_type": "stream",
     "text": [
      "Определитель матрицы = 1.0\n",
      "Ранг матрицы = 4\n",
      "Собственные значения матрицы = [1. 1. 1. 1.]\n"
     ]
    }
   ],
   "source": [
    "# Матрица AI\n",
    "# определитель:\n",
    "AI_opred=np.linalg.det(AI)\n",
    "print(f'Определитель матрицы = {AI_opred}')\n",
    "\n",
    "# ранг\n",
    "AI_rang=np.linalg.matrix_rank(AI)\n",
    "print(f'Ранг матрицы = {AI_rang}')\n",
    "\n",
    "# собственные значения:\n",
    "AI_sz=np.linalg.eigvals(AI)\n",
    "print(f'Собственные значения матрицы = {AI_sz}')"
   ]
  },
  {
   "cell_type": "code",
   "execution_count": 32,
   "id": "8b80eda2",
   "metadata": {},
   "outputs": [
    {
     "name": "stdout",
     "output_type": "stream",
     "text": [
      "Определитель матрицы = 0.0\n",
      "Ранг матрицы = 0\n",
      "Собственные значения матрицы = [0. 0. 0. 0.]\n"
     ]
    }
   ],
   "source": [
    "# Матрица A0\n",
    "# определитель:\n",
    "A0_opred=np.linalg.det(А0)\n",
    "print(f'Определитель матрицы = {A0_opred}')\n",
    "\n",
    "# ранг\n",
    "A0_rang=np.linalg.matrix_rank(А0)\n",
    "print(f'Ранг матрицы = {A0_rang}')\n",
    "\n",
    "# собственные значения:\n",
    "A0_sz=np.linalg.eigvals(А0)\n",
    "print(f'Собственные значения матрицы = {A0_sz}')"
   ]
  },
  {
   "cell_type": "code",
   "execution_count": 37,
   "id": "bc8ab149",
   "metadata": {},
   "outputs": [
    {
     "name": "stdout",
     "output_type": "stream",
     "text": [
      "Определитель матрицы = 0.05066576316778358\n",
      "Ранг матрицы = 4\n",
      "Собственные значения матрицы = [ 1.6677884 +0.j         -0.22362284+0.40666558j -0.22362284-0.40666558j\n",
      "  0.14104577+0.j        ]\n"
     ]
    }
   ],
   "source": [
    "# Матрица A2\n",
    "# определитель:\n",
    "A2_opred=np.linalg.det(A2)\n",
    "print(f'Определитель матрицы = {A2_opred}')\n",
    "\n",
    "# ранг\n",
    "A2_rang=np.linalg.matrix_rank(A2)\n",
    "print(f'Ранг матрицы = {A2_rang}')\n",
    "\n",
    "# собственные значения:\n",
    "A2_sz=np.linalg.eigvals(A2)\n",
    "print(f'Собственные значения матрицы = {A2_sz}')"
   ]
  },
  {
   "cell_type": "code",
   "execution_count": 38,
   "id": "8fc54b9f",
   "metadata": {},
   "outputs": [
    {
     "name": "stdout",
     "output_type": "stream",
     "text": [
      "Определитель матрицы = 0.05066576316778358\n",
      "Ранг матрицы = 4\n",
      "Собственные значения матрицы = [ 1.6677884 +0.j         -0.22362284+0.40666558j -0.22362284-0.40666558j\n",
      "  0.14104577+0.j        ]\n"
     ]
    }
   ],
   "source": [
    "# Матрица A3\n",
    "# определитель:\n",
    "A3_opred=np.linalg.det(A3)\n",
    "print(f'Определитель матрицы = {A3_opred}')\n",
    "\n",
    "# ранг\n",
    "A3_rang=np.linalg.matrix_rank(A3)\n",
    "print(f'Ранг матрицы = {A3_rang}')\n",
    "\n",
    "# собственные значения:\n",
    "A3_sz=np.linalg.eigvals(A3)\n",
    "print(f'Собственные значения матрицы = {A3_sz}')"
   ]
  }
 ],
 "metadata": {
  "kernelspec": {
   "display_name": "Python 3",
   "language": "python",
   "name": "python3"
  },
  "language_info": {
   "codemirror_mode": {
    "name": "ipython",
    "version": 3
   },
   "file_extension": ".py",
   "mimetype": "text/x-python",
   "name": "python",
   "nbconvert_exporter": "python",
   "pygments_lexer": "ipython3",
   "version": "3.8.8"
  }
 },
 "nbformat": 4,
 "nbformat_minor": 5
}

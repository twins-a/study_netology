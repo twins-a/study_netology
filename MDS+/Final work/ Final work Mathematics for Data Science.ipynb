{
 "cells": [
  {
   "cell_type": "markdown",
   "id": "ab5f85e8",
   "metadata": {},
   "source": [
    "## Задание итоговая работа Математика для Data Science\n",
    "\n",
    "#### Задание 1\n",
    "Дана матрица рейтингов фильмов (строки - пользователи (10 человек), столбцы - фильмы (15 фильмов))\n",
    "a) Необходимо найти наиболее похожего пользователя по косинусной метрике для каждого из (ответ: 10 пар вида (x, y), где y\n",
    "наиболее похожий пользователь на пользователя x).\n",
    "\n",
    "b) Предположим, вы захотели сжать признаковые описания пользователя с 15 фильмов, до, скажем, 5-ти признаков, как вы\n",
    "это сделаете?\n",
    "\n",
    "####  Задание 2\n",
    "Упражнения по вычислению производных (на python и на бумаге)\n",
    "𝑡𝑔2(𝑠𝑖𝑛(𝑥)+𝑐𝑜𝑠(2𝑥+3))  в точке 𝑥0=1\n",
    "\n",
    "#### Задание 3\n",
    "Дана функция с неизвестными параметрами a и b, вам также известны значения функции fx в точках x. Найдите\n",
    "оптимальные параметры a, b, минимизирующие абсолютную ошибку error.\n",
    "\n",
    "#### Задание 4\n",
    "Создайте собственную дискретную случайную величину с 20 значениями. Сгенерируйте 1000 выборок размера 50.\n",
    "Посчитайте среднее для каждой выборки. Постройте гистограмму распределения средних.\n",
    "\n",
    "#### Задание 5\n",
    "Найдите собственные значения и собственные вектора матрицы (на python и на бумаге)\n",
    "[1, 4]\n",
    "[1, 1]"
   ]
  },
  {
   "cell_type": "code",
   "execution_count": 165,
   "id": "65c6aa46",
   "metadata": {},
   "outputs": [],
   "source": [
    "# Подгружаю нужные библиотеки\n",
    "\n",
    "import numpy as np\n",
    "import random\n",
    "\n",
    "from sklearn.decomposition import TruncatedSVD\n",
    "from sympy import *\n",
    "import math\n",
    "import matplotlib.pyplot as plt\n",
    "from scipy.optimize import differential_evolution"
   ]
  },
  {
   "cell_type": "code",
   "execution_count": null,
   "id": "ac9fa6c7",
   "metadata": {},
   "outputs": [],
   "source": []
  },
  {
   "cell_type": "markdown",
   "id": "d94598c0",
   "metadata": {},
   "source": [
    "# Задание 1\n",
    "Дана матрица рейтингов фильмов (строки - пользователи (10 человек), столбцы - фильмы (15 фильмов))\n",
    "a) Необходимо найти наиболее похожего пользователя по косинусной метрике для каждого из (ответ: 10 пар вида (x, y), где y\n",
    "наиболее похожий пользователь на пользователя x)."
   ]
  },
  {
   "cell_type": "markdown",
   "id": "fa8edb42",
   "metadata": {},
   "source": [
    "# Матрицы рейтингов фильмов изначально по условию не было выдано."
   ]
  },
  {
   "cell_type": "markdown",
   "id": "5b69b9a0",
   "metadata": {},
   "source": [
    "# Поэтому создаю эту матрицу сам."
   ]
  },
  {
   "cell_type": "code",
   "execution_count": 10,
   "id": "b1107a42",
   "metadata": {},
   "outputs": [
    {
     "data": {
      "text/plain": [
       "[[7, 10, 7, 5, 7, 7, 8, 6, 6, 2, 8, 8, 5, 4, 6],\n",
       " [10, 8, 4, 7, 4, 1, 4, 3, 3, 8, 5, 6, 8, 4, 9],\n",
       " [6, 4, 4, 1, 1, 5, 6, 8, 2, 8, 2, 10, 1, 3, 10],\n",
       " [8, 3, 9, 2, 8, 1, 6, 1, 6, 4, 3, 4, 10, 5, 3],\n",
       " [2, 1, 5, 9, 8, 4, 2, 6, 9, 3, 8, 7, 2, 4, 7],\n",
       " [3, 1, 10, 4, 6, 6, 5, 7, 5, 4, 6, 8, 4, 9, 4],\n",
       " [10, 5, 1, 6, 10, 3, 9, 10, 5, 8, 10, 7, 7, 6, 3],\n",
       " [5, 8, 5, 2, 3, 7, 7, 5, 6, 10, 4, 9, 10, 6, 2],\n",
       " [9, 7, 10, 3, 8, 3, 10, 1, 7, 4, 2, 1, 5, 10, 7],\n",
       " [9, 5, 3, 9, 9, 5, 4, 8, 7, 9, 5, 6, 10, 1, 9]]"
      ]
     },
     "execution_count": 10,
     "metadata": {},
     "output_type": "execute_result"
    }
   ],
   "source": [
    "# Создаю матрицу рейтингов фильмов. 10 строк и 15 столбцов\n",
    "matrix = [[ random.randint(1, 10) for j in range(15)] for i in range(10)]\n",
    "matrix"
   ]
  },
  {
   "cell_type": "code",
   "execution_count": 24,
   "id": "ead548c4",
   "metadata": {},
   "outputs": [
    {
     "name": "stdout",
     "output_type": "stream",
     "text": [
      "Ответ:\n",
      "Пара N  1: пользователь:  1 и пользователь:  7. Лучший max cos= 0.8843123947297682\n",
      "Пара N  2: пользователь:  2 и пользователь: 10. Лучший max cos= 0.9254941612918774\n",
      "Пара N  3: пользователь:  3 и пользователь:  2. Лучший max cos= 0.8121664513263365\n",
      "Пара N  4: пользователь:  4 и пользователь:  9. Лучший max cos= 0.9096145078561773\n",
      "Пара N  5: пользователь:  5 и пользователь:  6. Лучший max cos= 0.874854135633195\n",
      "Пара N  6: пользователь:  6 и пользователь:  5. Лучший max cos= 0.874854135633195\n",
      "Пара N  7: пользователь:  7 и пользователь: 10. Лучший max cos= 0.9033442768688449\n",
      "Пара N  8: пользователь:  8 и пользователь:  1. Лучший max cos= 0.872479391911452\n",
      "Пара N  9: пользователь:  9 и пользователь:  4. Лучший max cos= 0.9096145078561773\n",
      "Пара N 10: пользователь: 10 и пользователь:  2. Лучший max cos= 0.9254941612918774\n"
     ]
    }
   ],
   "source": [
    "print('Ответ:')\n",
    "for i in range(len(matrix)):\n",
    "    max_cos = 0\n",
    "    x = matrix[i]\n",
    "    for j in range(len(matrix)):\n",
    "        if i != j:\n",
    "            y = matrix[j]\n",
    "            # НайдУ скалярное произведение векторов x и y:\n",
    "            ScPr = np.dot(x,y)\n",
    "            \n",
    "            # 2. НайдУ модули векторов (нормы):\n",
    "            x_m = np.linalg.norm(x)\n",
    "            y_m = np.linalg.norm(y)\n",
    "            \n",
    "            # Найду cos угла между векторами:\n",
    "            cos_ugla_xy = ScPr / (x_m * y_m)\n",
    "            \n",
    "            # Находим лучший (максимальный)\n",
    "            if cos_ugla_xy > max_cos:\n",
    "                max_cos = cos_ugla_xy\n",
    "                para = j\n",
    "    print(f'Пара N {(i+1):2.0f}: пользователь: {(i+1):2.0f} и пользователь: {(para+1):2.0f}. Лучший max cos= {max_cos}')"
   ]
  },
  {
   "cell_type": "markdown",
   "id": "8eae16e8",
   "metadata": {},
   "source": [
    "## b) Предположим, вы захотели сжать признаковые описания пользователя с 15 фильмов, до, скажем, 5-ти признаков, как вы это сделаете?"
   ]
  },
  {
   "cell_type": "markdown",
   "id": "9f45be61",
   "metadata": {},
   "source": [
    "### Попытаюсь воспользоваться: sklearn.decomposition.TruncatedSVD"
   ]
  },
  {
   "cell_type": "code",
   "execution_count": 28,
   "id": "504aac24",
   "metadata": {},
   "outputs": [
    {
     "data": {
      "text/plain": [
       "array([[24.64007615,  0.36600387,  2.01117671,  1.56167039, -0.08842877],\n",
       "       [22.14682459, -1.05671084, -6.19522835, -2.13872506, -3.86711951],\n",
       "       [18.55853893, -5.45282167, -2.27515638,  8.39367586, -4.07314093],\n",
       "       [19.52670719,  7.57251666, -0.92552398, -2.7931776 ,  1.21172179],\n",
       "       [19.52801492, -4.45591703,  8.84100415, -3.19745521, -2.32419327],\n",
       "       [20.87026338,  1.28593658,  7.46239723,  4.08164288,  1.44968922],\n",
       "       [26.28225224, -3.52979742, -0.66776411, -3.5262673 ,  5.69157893],\n",
       "       [22.99806832,  0.42207631, -4.02377907,  4.95879852,  5.60846603],\n",
       "       [22.6577758 , 10.80583873,  0.15738387,  0.18315969, -3.5638573 ],\n",
       "       [25.89477553, -5.17016614, -2.85466201, -5.42990027, -1.65813047]])"
      ]
     },
     "execution_count": 28,
     "metadata": {},
     "output_type": "execute_result"
    }
   ],
   "source": [
    "trun_svd = TruncatedSVD(n_components = 5)\n",
    "matrix_transformed = trun_svd .fit_transform(matrix)\n",
    "matrix_transformed"
   ]
  },
  {
   "cell_type": "code",
   "execution_count": 29,
   "id": "bb30ba3a",
   "metadata": {},
   "outputs": [
    {
     "name": "stdout",
     "output_type": "stream",
     "text": [
      "Ответ 1:\n",
      "Пара N  1: пользователь:  1 и пользователь:  6. Лучший max cos= 0.9564148083764197\n",
      "Пара N  2: пользователь:  2 и пользователь: 10. Лучший max cos= 0.9654343008049765\n",
      "Пара N  3: пользователь:  3 и пользователь:  1. Лучший max cos= 0.8676036447797313\n",
      "Пара N  4: пользователь:  4 и пользователь:  9. Лучший max cos= 0.9667732765219613\n",
      "Пара N  5: пользователь:  5 и пользователь:  6. Лучший max cos= 0.896911808810147\n",
      "Пара N  6: пользователь:  6 и пользователь:  1. Лучший max cos= 0.9564148083764197\n",
      "Пара N  7: пользователь:  7 и пользователь: 10. Лучший max cos= 0.9561093896823329\n",
      "Пара N  8: пользователь:  8 и пользователь:  1. Лучший max cos= 0.931645976561928\n",
      "Пара N  9: пользователь:  9 и пользователь:  4. Лучший max cos= 0.9667732765219613\n",
      "Пара N 10: пользователь: 10 и пользователь:  2. Лучший max cos= 0.9654343008049765\n"
     ]
    }
   ],
   "source": [
    "# Еще роз найду пары, только уже для сжатой матрицы\n",
    "\n",
    "print('Ответ 1:')\n",
    "for i in range(len(matrix_transformed)):\n",
    "    max_cos = 0\n",
    "    x = matrix_transformed[i]\n",
    "    for j in range(len(matrix_transformed)):\n",
    "        if i != j:\n",
    "            y = matrix_transformed[j]\n",
    "            # НайдУ скалярное произведение векторов x и y:\n",
    "            ScPr = np.dot(x,y)\n",
    "            \n",
    "            # 2. НайдУ модули векторов (нормы):\n",
    "            x_m = np.linalg.norm(x)\n",
    "            y_m = np.linalg.norm(y)\n",
    "            \n",
    "            # Найду cos угла между векторами:\n",
    "            cos_ugla_xy = ScPr / (x_m * y_m)\n",
    "            \n",
    "            # Находим лучший (максимальный)\n",
    "            if cos_ugla_xy > max_cos:\n",
    "                max_cos = cos_ugla_xy\n",
    "                para = j\n",
    "    print(f'Пара N {(i+1):2.0f}: пользователь: {(i+1):2.0f} и пользователь: {(para+1):2.0f}. Лучший max cos= {max_cos}')"
   ]
  },
  {
   "cell_type": "markdown",
   "id": "66b0aff4",
   "metadata": {},
   "source": [
    "#### Вижу: результат немного изменился"
   ]
  },
  {
   "cell_type": "code",
   "execution_count": null,
   "id": "68770bb8",
   "metadata": {},
   "outputs": [],
   "source": []
  },
  {
   "cell_type": "code",
   "execution_count": null,
   "id": "9e6a6a2c",
   "metadata": {},
   "outputs": [],
   "source": []
  },
  {
   "cell_type": "code",
   "execution_count": null,
   "id": "7f3e5907",
   "metadata": {},
   "outputs": [],
   "source": []
  },
  {
   "cell_type": "markdown",
   "id": "baeda212",
   "metadata": {},
   "source": [
    "#  Задание 2\n",
    "Упражнения по вычислению производных (на python и на бумаге)\n",
    "\n",
    "tan^2(𝑠𝑖𝑛(𝑥)+𝑐𝑜𝑠(2𝑥+3))  в точке 𝑥0=1"
   ]
  },
  {
   "cell_type": "markdown",
   "id": "5407bf83",
   "metadata": {},
   "source": [
    "# Сперва вычислю ручками (на бумаге) по шагам:\n",
    "\n",
    "(tg^2(sin(x)+cos(2*x+3)))' = 2tg(cos(2x+3) + sin(x)) * (tg(cos(2x+3) + sin(x)))'"
   ]
  },
  {
   "cell_type": "markdown",
   "id": "3a143f96",
   "metadata": {},
   "source": [
    "2tg(cos(2x+3) + sin(x)) * (tg(cos(2x+3) + sin(x)))' =\n",
    "                                                                          1                \n",
    "                                = 2tg(cos(2x+3) + sin(x)) *   ---------------------------- * (cos(2x+3) + sin(x))'\n",
    "                                                                cos^2 (cos(2x+3) + sin(x))"
   ]
  },
  {
   "cell_type": "code",
   "execution_count": null,
   "id": "a1e2bd2f",
   "metadata": {},
   "outputs": [],
   "source": [
    " 2tg(cos(2x+3) + sin(x))                                   2tg(cos(2x+3) + sin(x))\n",
    "---------------------------- * (cos(2x+3) + sin(x))' =   ---------------------------- * ((cos(2x+3))' + (sin(x))')\n",
    "cos^2 (cos(2x+3) + sin(x))                                cos^2 (cos(2x+3) + sin(x))"
   ]
  },
  {
   "cell_type": "code",
   "execution_count": null,
   "id": "fecab44f",
   "metadata": {},
   "outputs": [],
   "source": [
    "2tg(cos(2x+3) + sin(x))                                      2tg(cos(2x+3) + sin(x))\n",
    "---------------------------- * ((cos(2x+3))' + (sin(x))') = ---------------------------- * (-sin(2x+3) * (2x+3)' + cos(x))\n",
    "cos^2 (cos(2x+3) + sin(x))                                   cos^2 (cos(2x+3) + sin(x))"
   ]
  },
  {
   "cell_type": "code",
   "execution_count": null,
   "id": "c2b00cca",
   "metadata": {},
   "outputs": [],
   "source": [
    " 2tg(cos(2x+3) + sin(x))                                     2tg(cos(2x+3) + sin(x))\n",
    "----------------------------*(-sin(2x+3)*(2x+3)' + cos(x)) = --------------------------*(-sin(2x+3) * (2*(x)' + (3)') + cos(x))\n",
    "cos^2 (cos(2x+3) + sin(x))                                   cos^2 (cos(2x+3) + sin(x))"
   ]
  },
  {
   "cell_type": "code",
   "execution_count": null,
   "id": "7fb6135f",
   "metadata": {},
   "outputs": [],
   "source": [
    "2tg(cos(2x+3) + sin(x))                                         2tg(cos(2x+3) + sin(x))\n",
    "--------------------------*(-sin(2x+3)*(2*(x)'+(3)')+cos(x)) = ---------------------------*(-sin(2x+3) * (2*1+0) + cos(x))\n",
    "cos^2 (cos(2x+3) + sin(x))                                      cos^2 (cos(2x+3) + sin(x))"
   ]
  },
  {
   "cell_type": "code",
   "execution_count": null,
   "id": "0738205c",
   "metadata": {},
   "outputs": [],
   "source": [
    "Результат\n",
    "    \n",
    " 2*(cos(x)-2*sin(2*x+3))*tan(cos(2*x+3)+sin(x))\n",
    "------------------------------------------------\n",
    "            cos^2 (cos(2x+3) + sin(x))\n",
    "              "
   ]
  },
  {
   "cell_type": "code",
   "execution_count": null,
   "id": "89f29cb5",
   "metadata": {},
   "outputs": [],
   "source": [
    "в точке 𝑥0=1:\n",
    "\n",
    "2*(cos(1)-2*sin(2*1+3))*tan(cos(2*1+3)+sin(1))    2*(0.54-2*(-0.96)) * tan(0.28+0.84)    2 * 2,46 * 2.06     10.14\n",
    "---------------------------------------------- = ------------------------------------- = --------------- = --------- = 53.4\n",
    "      cos(cos(2*1+3) + sin(1))^2                          cos(0,28 + 0,84)^2                   0,19           0,19\n",
    "\n",
    "# Результат чуток отличается за счет грубого огругления ручками."
   ]
  },
  {
   "cell_type": "markdown",
   "id": "8aacb06b",
   "metadata": {},
   "source": [
    "## Результат отличается за счет грубого огругления ручками."
   ]
  },
  {
   "cell_type": "code",
   "execution_count": 124,
   "id": "18d7227d",
   "metadata": {},
   "outputs": [
    {
     "data": {
      "text/plain": [
       "55.38591763533786"
      ]
     },
     "execution_count": 124,
     "metadata": {},
     "output_type": "execute_result"
    }
   ],
   "source": [
    "# Проверю результат:\n",
    "\n",
    "rez1 = 2*(math.cos(1)-2*math.sin(2*1+3))*math.tan(math.cos(2*1+3)+math.sin(1)) / math.cos(math.cos(2*1+3)+math.sin(1))**2\n",
    "rez1"
   ]
  },
  {
   "cell_type": "markdown",
   "id": "d8e9c28d",
   "metadata": {},
   "source": [
    "### Ответы сошлись!"
   ]
  },
  {
   "cell_type": "markdown",
   "id": "a0a82e9b",
   "metadata": {},
   "source": [
    "### Теперь вычислю с помощью Python:"
   ]
  },
  {
   "cell_type": "code",
   "execution_count": 49,
   "id": "ad7306e9",
   "metadata": {},
   "outputs": [
    {
     "data": {
      "text/latex": [
       "$\\displaystyle 2 \\left(- 2 \\sin{\\left(2 x + 3 \\right)} + \\cos{\\left(x \\right)}\\right) \\left(\\tan^{2}{\\left(\\sin{\\left(x \\right)} + \\cos{\\left(2 x + 3 \\right)} \\right)} + 1\\right) \\tan{\\left(\\sin{\\left(x \\right)} + \\cos{\\left(2 x + 3 \\right)} \\right)}$"
      ],
      "text/plain": [
       "2*(-2*sin(2*x + 3) + cos(x))*(tan(sin(x) + cos(2*x + 3))**2 + 1)*tan(sin(x) + cos(2*x + 3))"
      ]
     },
     "execution_count": 49,
     "metadata": {},
     "output_type": "execute_result"
    }
   ],
   "source": [
    "x = symbols('x')\n",
    "pr1 = diff( tan( sin(x)+cos(2*x+3) )**2 )\n",
    "pr1"
   ]
  },
  {
   "cell_type": "code",
   "execution_count": 50,
   "id": "919855e8",
   "metadata": {},
   "outputs": [
    {
     "name": "stdout",
     "output_type": "stream",
     "text": [
      "Производная = 55.385917635337854\n"
     ]
    }
   ],
   "source": [
    "f1 = lambdify(x, pr1)\n",
    "print(f'Производная = {f1(1)}')"
   ]
  },
  {
   "cell_type": "markdown",
   "id": "9b63f06e",
   "metadata": {},
   "source": [
    "### Результаты сошлись..."
   ]
  },
  {
   "cell_type": "code",
   "execution_count": null,
   "id": "7fa2f5b4",
   "metadata": {},
   "outputs": [],
   "source": []
  },
  {
   "cell_type": "code",
   "execution_count": null,
   "id": "26cb54a5",
   "metadata": {},
   "outputs": [],
   "source": []
  },
  {
   "cell_type": "code",
   "execution_count": null,
   "id": "8863d1c2",
   "metadata": {},
   "outputs": [],
   "source": []
  },
  {
   "cell_type": "markdown",
   "id": "f1131168",
   "metadata": {},
   "source": [
    "# Задание 3\n",
    "Дана функция с неизвестными параметрами a и b, вам также известны значения функции fx в точках x. Найдите\n",
    "оптимальные параметры a, b, минимизирующие абсолютную ошибку error."
   ]
  },
  {
   "cell_type": "code",
   "execution_count": 160,
   "id": "e09db68f",
   "metadata": {},
   "outputs": [],
   "source": [
    "def f(x, a, b):\n",
    "    return np.e**a * np.sin(b*x) + x"
   ]
  },
  {
   "cell_type": "code",
   "execution_count": 161,
   "id": "4f343127",
   "metadata": {},
   "outputs": [
    {
     "data": {
      "text/plain": [
       "array([0.        , 0.26315789, 0.52631579, 0.78947368, 1.05263158,\n",
       "       1.31578947, 1.57894737, 1.84210526, 2.10526316, 2.36842105,\n",
       "       2.63157895, 2.89473684, 3.15789474, 3.42105263, 3.68421053,\n",
       "       3.94736842, 4.21052632, 4.47368421, 4.73684211, 5.        ])"
      ]
     },
     "execution_count": 161,
     "metadata": {},
     "output_type": "execute_result"
    }
   ],
   "source": [
    "x = np.array([0.        , 0.26315789, 0.52631579, 0.78947368, 1.05263158,\n",
    "              1.31578947, 1.57894737, 1.84210526, 2.10526316, 2.36842105,\n",
    "              2.63157895, 2.89473684, 3.15789474, 3.42105263, 3.68421053,\n",
    "              3.94736842, 4.21052632, 4.47368421, 4.73684211, 5.        ])\n",
    "x"
   ]
  },
  {
   "cell_type": "code",
   "execution_count": 163,
   "id": "74bfa232",
   "metadata": {},
   "outputs": [
    {
     "data": {
      "text/plain": [
       "array([  0.        , -12.01819092, -18.90968634, -17.68786571,\n",
       "        -8.7529108 ,   4.27524517,  16.06801336,  21.81250213,\n",
       "        19.22059845,   9.48411207,  -3.22273056, -13.48576488,\n",
       "       -16.91096359, -11.95866834,  -0.58630088,  12.56873816,\n",
       "        22.12489421,  24.20292139,  18.04522521,   6.33211092])"
      ]
     },
     "execution_count": 163,
     "metadata": {},
     "output_type": "execute_result"
    }
   ],
   "source": [
    "fx = np.array([  0.        , -12.01819092, -18.90968634, -17.68786571,\n",
    "                -8.7529108 ,   4.27524517,  16.06801336,  21.81250213,\n",
    "                19.22059845,   9.48411207,  -3.22273056, -13.48576488,\n",
    "               -16.91096359, -11.95866834,  -0.58630088,  12.56873816,\n",
    "                22.12489421,  24.20292139,  18.04522521,   6.33211092])\n",
    "fx"
   ]
  },
  {
   "cell_type": "code",
   "execution_count": 164,
   "id": "bed610e3",
   "metadata": {},
   "outputs": [
    {
     "data": {
      "image/png": "[encoded data removed]",
      "text/plain": [
       "<Figure size 432x288 with 1 Axes>"
      ]
     },
     "metadata": {
      "needs_background": "light"
     },
     "output_type": "display_data"
    }
   ],
   "source": [
    "plt.plot(x, fx)\n",
    "plt.show()"
   ]
  },
  {
   "cell_type": "code",
   "execution_count": 166,
   "id": "b3978d74",
   "metadata": {},
   "outputs": [],
   "source": [
    "def error(params):\n",
    "    return np.sum(np.abs(fx - f(x, params[0], params[1])))"
   ]
  },
  {
   "cell_type": "code",
   "execution_count": 181,
   "id": "0123ad72",
   "metadata": {},
   "outputs": [
    {
     "name": "stdout",
     "output_type": "stream",
     "text": [
      "     fun: 1.5125979224706043e-06\n",
      " message: 'Optimization terminated successfully.'\n",
      "    nfev: 2073\n",
      "     nit: 66\n",
      " success: True\n",
      "       x: array([ 3. , -2.5])\n"
     ]
    }
   ],
   "source": [
    "bounds = [(-20, 20), (-20, 20)]\n",
    "result = differential_evolution(error, bounds, seed = 42)\n",
    "print(result)"
   ]
  },
  {
   "cell_type": "code",
   "execution_count": 179,
   "id": "684bafb5",
   "metadata": {},
   "outputs": [
    {
     "name": "stdout",
     "output_type": "stream",
     "text": [
      "Параметр a = 3.0\n",
      "Параметр b = -2.5\n"
     ]
    }
   ],
   "source": [
    "print(f'Параметр a = {round(result.x[0],1)}')\n",
    "print(f'Параметр b = {round(result.x[1],1)}')"
   ]
  },
  {
   "cell_type": "code",
   "execution_count": null,
   "id": "12adf32b",
   "metadata": {},
   "outputs": [],
   "source": []
  },
  {
   "cell_type": "code",
   "execution_count": null,
   "id": "40352ea1",
   "metadata": {},
   "outputs": [],
   "source": []
  },
  {
   "cell_type": "code",
   "execution_count": null,
   "id": "393290da",
   "metadata": {},
   "outputs": [],
   "source": []
  },
  {
   "cell_type": "markdown",
   "id": "2730f3e0",
   "metadata": {},
   "source": [
    "# Задание 4\n",
    "\n",
    "Создайте собственную дискретную случайную величину с 20 значениями.\n",
    "Сгенерируйте 1000 выборок размера 50.\n",
    "Посчитайте среднее для каждой выборки.\n",
    "Постройте гистограмму распределения средних."
   ]
  },
  {
   "cell_type": "code",
   "execution_count": 144,
   "id": "7f23b072",
   "metadata": {},
   "outputs": [
    {
     "data": {
      "text/plain": [
       "array([74, 72, 44, 63, 31, 25, 21,  5,  4, 42, 41, 98, 15, 88, 31, 45, 89,\n",
       "       65, 25, 23])"
      ]
     },
     "execution_count": 144,
     "metadata": {},
     "output_type": "execute_result"
    }
   ],
   "source": [
    "zn = np.random.randint(1, 101, size = 20)\n",
    "zn"
   ]
  },
  {
   "cell_type": "code",
   "execution_count": 145,
   "id": "e11c0d0c",
   "metadata": {},
   "outputs": [
    {
     "name": "stdout",
     "output_type": "stream",
     "text": [
      "[74 72 44 63 31 25 21  5  4 42 41 98 15 88 31 45 89 65 25 23]\n"
     ]
    }
   ],
   "source": [
    "print(zn)"
   ]
  },
  {
   "cell_type": "code",
   "execution_count": 159,
   "id": "3726af88",
   "metadata": {},
   "outputs": [
    {
     "data": {
      "image/png": "[encoded data removed]",
      "text/plain": [
       "<Figure size 432x288 with 1 Axes>"
      ]
     },
     "metadata": {
      "needs_background": "light"
     },
     "output_type": "display_data"
    }
   ],
   "source": [
    "sredn = []\n",
    "for i in range(1000):\n",
    "    a = np.random.choice(zn, size=50)\n",
    "    # print(a)\n",
    "    sredn.append(np.mean(a))\n",
    "    \n",
    "plt.hist(sredn, color='g')\n",
    "plt.title('Final work. Task 4')\n",
    "plt.grid()\n",
    "plt.xlabel('x')\n",
    "plt.ylabel('average')\n",
    "plt.show()"
   ]
  },
  {
   "cell_type": "code",
   "execution_count": null,
   "id": "c8ec3ee5",
   "metadata": {},
   "outputs": [],
   "source": []
  },
  {
   "cell_type": "code",
   "execution_count": null,
   "id": "458d260e",
   "metadata": {},
   "outputs": [],
   "source": []
  },
  {
   "cell_type": "code",
   "execution_count": null,
   "id": "9958de34",
   "metadata": {},
   "outputs": [],
   "source": []
  },
  {
   "cell_type": "markdown",
   "id": "83c7c5f8",
   "metadata": {},
   "source": [
    "# Задание 5\n",
    "Найдите собственные значения и собственные вектора матрицы (на python и на бумаге)\n",
    "\n",
    "[1, 4]\n",
    "\n",
    "[1, 1]"
   ]
  },
  {
   "cell_type": "code",
   "execution_count": 135,
   "id": "321e83b3",
   "metadata": {},
   "outputs": [
    {
     "name": "stdout",
     "output_type": "stream",
     "text": [
      "[[1 4]\n",
      " [1 1]]\n"
     ]
    }
   ],
   "source": [
    "# Создаю матрицу\n",
    "\n",
    "matr = np.array([[1, 4],\n",
    "                [1, 1]])\n",
    "print(matr)"
   ]
  },
  {
   "cell_type": "markdown",
   "id": "2e0363c5",
   "metadata": {},
   "source": [
    "# Расчет на бумаге:\n",
    "\n",
    "\n",
    "1. Собственны значения:\n",
    "|1-λ 4| = 0\n",
    "|1 1-λ|\n",
    "\n",
    "Через определитель матрицы:\n",
    "\n",
    "(1- λ)*(1- λ) - (1*4) = 0 => λ**2-2λ-3 = 0\n",
    "\n",
    "λ1 = 3; λ2 = -1\n",
    "\n",
    "\n",
    "2. Для каждого λ найду собственные вектора:\n",
    "\n",
    "а) λ1 = 3\n",
    "-2x + 4y = 0\n",
    "  x - 2y = 0\n",
    "\n",
    "Ответ = |2|\n",
    "        |1|\n",
    "\n",
    "\n",
    "Проверить можно так:\n",
    "\n",
    "|1 4| * |2| = |2+4| = |6| = 3 * |2|\n",
    "|1 1|   |1|   |2+1|   |3|       |1|\n",
    "получил тот же вектор\n",
    "\n",
    "-----------------------------------\n",
    "\n",
    "б) λ2 = -1\n",
    "2x + 4y = 0\n",
    " x + 2y = 0\n",
    "\n",
    "Ответ = |-2|\n",
    "        | 1|\n",
    "\n",
    "\n",
    "Проверка:\n",
    "\n",
    "|1 4| * |-2| = |-2+4| = | 2|\n",
    "|1 1|   | 1|   |-2+1|   |-1|"
   ]
  },
  {
   "cell_type": "code",
   "execution_count": null,
   "id": "56a728ad",
   "metadata": {},
   "outputs": [],
   "source": []
  },
  {
   "cell_type": "code",
   "execution_count": 140,
   "id": "177528f0",
   "metadata": {},
   "outputs": [
    {
     "name": "stdout",
     "output_type": "stream",
     "text": [
      "Собственные значения: n[ 3. -1.]\n",
      "Собственные  вектора: \n",
      "[[ 0.89442719 -0.89442719]\n",
      " [ 0.4472136   0.4472136 ]]\n"
     ]
    }
   ],
   "source": [
    "# Расчет на Python:\n",
    "\n",
    "sobs_zn, sobs_vekt = np.linalg.eig(matr)\n",
    "print(f'Собственные значения: n{sobs_zn}')\n",
    "print(f'Собственные  вектора: \\n{sobs_vekt}')"
   ]
  },
  {
   "cell_type": "code",
   "execution_count": 141,
   "id": "53860374",
   "metadata": {},
   "outputs": [
    {
     "data": {
      "text/plain": [
       "array([ 3., -1.])"
      ]
     },
     "execution_count": 141,
     "metadata": {},
     "output_type": "execute_result"
    }
   ],
   "source": [
    "# Собственные значения можно и так:\n",
    "np.linalg.eigvals(matr)"
   ]
  }
 ],
 "metadata": {
  "kernelspec": {
   "display_name": "Python 3",
   "language": "python",
   "name": "python3"
  },
  "language_info": {
   "codemirror_mode": {
    "name": "ipython",
    "version": 3
   },
   "file_extension": ".py",
   "mimetype": "text/x-python",
   "name": "python",
   "nbconvert_exporter": "python",
   "pygments_lexer": "ipython3",
   "version": "3.8.8"
  }
 },
 "nbformat": 4,
 "nbformat_minor": 5
}

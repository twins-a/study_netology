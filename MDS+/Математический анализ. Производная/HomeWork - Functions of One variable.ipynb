{
 "cells": [
  {
   "cell_type": "markdown",
   "id": "54a2cdb0",
   "metadata": {},
   "source": [
    "### Вычислить значения первой и второй производной функции:\n",
    "\n",
    "f(x) = x^5 + 4sin(2x) + cos(3x+3)\n",
    "\n",
    "в точке x=1"
   ]
  },
  {
   "cell_type": "markdown",
   "id": "e0f495d1",
   "metadata": {},
   "source": [
    "Решение. 1 производная:\n",
    "    \n",
    "(x^5 + 4sin(2x) + cos(3x+3))' = (x^5)' + 4 (sin(2x))' + (cos(3x+3))'\n",
    "\n",
    "Вычислю по отдельности:\n",
    "\n",
    "(x^5)' = 5x^4\n",
    "\n",
    "4 (sin(2x))' = 4 cos(2x) * (2x)' = 4 cos(2x) * 2 = 8 cos(2x)\n",
    "\n",
    "(cos(3x+3))' = -sin(3x+3) * (3x+3)' = -sin(3x+3) * (3 * (x)' + (3)') = - 3 sin(3x+3)\n",
    "\n",
    "\n",
    "Теперь записываю все вместе:\n",
    "\n",
    "(x^5 + 4sin(2x) + cos(3x+3))' = (x^5)' + 4 (sin(2x))' + (cos(3x+3))' = 5x^4 + 8 cos(2x) - 3 sin(3x+3)"
   ]
  },
  {
   "cell_type": "markdown",
   "id": "9220dacc",
   "metadata": {},
   "source": [
    "Результат 1-ой производной:\n",
    "\n",
    "(x^5 + 4sin(2x) + cos(3x+3))' = 5x^4 + 8 cos(2x) - 3 sin(3x+3)\n",
    "\n",
    "В точке x=1:\n",
    "\n",
    "5x^4 + 8 cos(2x) -  3 sin(3x+3) = 5 * 1^4 + 8 cos(2 * 1) - 3 sin(3*1 + 3) = 5 + 8 cos(2) - 3 sin(6) = 5 + 8 * 0,99939 - 3 * 0,104528 = 12,681536"
   ]
  },
  {
   "cell_type": "markdown",
   "id": "c56ded00",
   "metadata": {},
   "source": [
    "Теперь вычислю 2-ую производную:\n",
    "    \n",
    "(5x^4 + 8 cos(2x) - 3 sin(3x+3))' = 5 (x^4)' + 8 (cos(2x))' - 3 (sin(3x+3))'\n",
    "\n",
    "5 (x^4)' = 20 x^3\n",
    "\n",
    "8 (cos(2x))' = 8 * (-sin(2x)) * (2x)' = -8 sin(2x) * (2x)' = - 16 * sin(2x)\n",
    "\n",
    "3 (sin(3x+3))' = 3 * cos(3x+3) * (3x+3)' = 3 * cos(3x+3) * (3 * (x)' + (3)') = 3 * cos(3x+3) * 3 + 0 = 9 cos(3x+3)"
   ]
  },
  {
   "cell_type": "markdown",
   "id": "d449fb4a",
   "metadata": {},
   "source": [
    "Теперь записываю все вместе:\n",
    "\n",
    "(5x^4 + 8 cos(2x) - 3 sin(3x+3))' = 20 x^3 - 16 * sin(2x) - 9 cos(3x+3)"
   ]
  },
  {
   "cell_type": "markdown",
   "id": "7a8f1468",
   "metadata": {},
   "source": [
    "Результат 2-ой производной:\n",
    "\n",
    "(5x^4 + 8 cos(2x) - 3 sin(3x+3))' = 20 x^3 - 16 * sin(2x) - 9 cos(3x+3)\n",
    "\n",
    "В точке x=1:\n",
    "\n",
    "20 x^3 - 16 * sin(2x) - 9 cos(3x+3) = 20 * 1^3 - 16 * sin(2*1) - 9 cos(3 * 1 +3) = 20 - 16 sin(2) - 9 cos(6) = 20 - 16 * 0,0348994967 - 9 * 0,99452189536 = 10,49"
   ]
  },
  {
   "cell_type": "code",
   "execution_count": null,
   "id": "286f5663",
   "metadata": {},
   "outputs": [],
   "source": []
  },
  {
   "cell_type": "code",
   "execution_count": null,
   "id": "dcf6a2d6",
   "metadata": {},
   "outputs": [],
   "source": []
  },
  {
   "cell_type": "markdown",
   "id": "677d39ce",
   "metadata": {},
   "source": [
    "### Постройте график функции, первой и второй производной:\n",
    "\n",
    "f(x) = sin^5(2x+1)"
   ]
  },
  {
   "cell_type": "markdown",
   "id": "fdf1adac",
   "metadata": {},
   "source": [
    "1-ая произаодная: \n",
    "(sin^5(2x+1))' = 10 cos(2x+1) * sin^4(2x+1)\n",
    "\n",
    "2-ая произаодная: \n",
    "(10 cos(2x+1) * sin^4(2x+1))' = 80 cos^2(2x+1) sin^3(2x+1) - 20sin^5(2x+1)"
   ]
  },
  {
   "cell_type": "code",
   "execution_count": 1,
   "id": "542925f5",
   "metadata": {},
   "outputs": [],
   "source": [
    "import numpy as np\n",
    "import matplotlib.pyplot as plt"
   ]
  },
  {
   "cell_type": "code",
   "execution_count": 4,
   "id": "1255b9ae",
   "metadata": {},
   "outputs": [
    {
     "data": {
      "text/plain": [
       "array([-5, -4, -3, -2, -1,  0,  1,  2,  3,  4,  5])"
      ]
     },
     "execution_count": 4,
     "metadata": {},
     "output_type": "execute_result"
    }
   ],
   "source": [
    "x=np.arange(-5, 6)\n",
    "x"
   ]
  },
  {
   "cell_type": "code",
   "execution_count": 40,
   "id": "5e71f91f",
   "metadata": {},
   "outputs": [],
   "source": [
    "y1 = 10 * np.cos(2*x+1) * np.sin(2*x+1)**4\n",
    "y2 = 80 * np.cos(2*x+1)**2 * np.sin(2*x+1)**3 - 20 * np.sin(2*x+1)**5"
   ]
  },
  {
   "cell_type": "code",
   "execution_count": 28,
   "id": "d0ef95f9",
   "metadata": {},
   "outputs": [],
   "source": [
    "def func1(x):\n",
    "    return 10 * np.cos(2*x+1) * np.sin(2*x+1)**4"
   ]
  },
  {
   "cell_type": "code",
   "execution_count": 50,
   "id": "fdb4467f",
   "metadata": {},
   "outputs": [
    {
     "data": {
      "text/plain": [
       "<function matplotlib.pyplot.show(close=None, block=None)>"
      ]
     },
     "execution_count": 50,
     "metadata": {},
     "output_type": "execute_result"
    },
    {
     "data": {
      "image/png": "[encoded data removed]",
      "text/plain": [
       "<Figure size 432x288 with 1 Axes>"
      ]
     },
     "metadata": {
      "needs_background": "light"
     },
     "output_type": "display_data"
    }
   ],
   "source": [
    "plt.plot(x,y1,label=\"derivative 1\")\n",
    "plt.plot(x,y2,label=\"derivative 2\")\n",
    "plt.xlabel('x')\n",
    "plt.ylabel('y')\n",
    "plt.legend()\n",
    "plt.grid()\n",
    "plt.title('Function')\n",
    "plt.show"
   ]
  }
 ],
 "metadata": {
  "kernelspec": {
   "display_name": "Python 3",
   "language": "python",
   "name": "python3"
  },
  "language_info": {
   "codemirror_mode": {
    "name": "ipython",
    "version": 3
   },
   "file_extension": ".py",
   "mimetype": "text/x-python",
   "name": "python",
   "nbconvert_exporter": "python",
   "pygments_lexer": "ipython3",
   "version": "3.8.8"
  }
 },
 "nbformat": 4,
 "nbformat_minor": 5
}

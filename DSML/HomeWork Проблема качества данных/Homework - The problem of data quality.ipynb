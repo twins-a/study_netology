{
 "cells": [
  {
   "cell_type": "code",
   "execution_count": 1,
   "id": "25e3e21d",
   "metadata": {},
   "outputs": [],
   "source": [
    "import numpy as np\n",
    "import pandas as pd\n",
    "import seaborn as sns\n",
    "\n",
    "from sklearn.linear_model import LinearRegression"
   ]
  },
  {
   "cell_type": "markdown",
   "id": "51ea29ad",
   "metadata": {},
   "source": [
    "### Создаю дата фрейм\n",
    "### Данные: зависимость стоимости квартир от площади, этажа и кол-ва комнат"
   ]
  },
  {
   "cell_type": "code",
   "execution_count": 25,
   "id": "75d4a7c9",
   "metadata": {},
   "outputs": [
    {
     "data": {
      "text/html": [
       "<div>\n",
       "<style scoped>\n",
       "    .dataframe tbody tr th:only-of-type {\n",
       "        vertical-align: middle;\n",
       "    }\n",
       "\n",
       "    .dataframe tbody tr th {\n",
       "        vertical-align: top;\n",
       "    }\n",
       "\n",
       "    .dataframe thead th {\n",
       "        text-align: right;\n",
       "    }\n",
       "</style>\n",
       "<table border=\"1\" class=\"dataframe\">\n",
       "  <thead>\n",
       "    <tr style=\"text-align: right;\">\n",
       "      <th></th>\n",
       "      <th>square</th>\n",
       "      <th>floor</th>\n",
       "      <th>rooms</th>\n",
       "      <th>price</th>\n",
       "    </tr>\n",
       "  </thead>\n",
       "  <tbody>\n",
       "    <tr>\n",
       "      <th>0</th>\n",
       "      <td>140</td>\n",
       "      <td>26</td>\n",
       "      <td>5</td>\n",
       "      <td>18205000</td>\n",
       "    </tr>\n",
       "    <tr>\n",
       "      <th>1</th>\n",
       "      <td>167</td>\n",
       "      <td>27</td>\n",
       "      <td>5</td>\n",
       "      <td>22550000</td>\n",
       "    </tr>\n",
       "    <tr>\n",
       "      <th>2</th>\n",
       "      <td>70</td>\n",
       "      <td>4</td>\n",
       "      <td>3</td>\n",
       "      <td>845000</td>\n",
       "    </tr>\n",
       "    <tr>\n",
       "      <th>3</th>\n",
       "      <td>108</td>\n",
       "      <td>26</td>\n",
       "      <td>2</td>\n",
       "      <td>5621000</td>\n",
       "    </tr>\n",
       "    <tr>\n",
       "      <th>4</th>\n",
       "      <td>32</td>\n",
       "      <td>3</td>\n",
       "      <td>4</td>\n",
       "      <td>389000</td>\n",
       "    </tr>\n",
       "  </tbody>\n",
       "</table>\n",
       "</div>"
      ],
      "text/plain": [
       "   square  floor  rooms     price\n",
       "0     140     26      5  18205000\n",
       "1     167     27      5  22550000\n",
       "2      70      4      3    845000\n",
       "3     108     26      2   5621000\n",
       "4      32      3      4    389000"
      ]
     },
     "execution_count": 25,
     "metadata": {},
     "output_type": "execute_result"
    }
   ],
   "source": [
    "n_samples = 1000 # кол-во элементов (строк - наблюдений)\n",
    "\n",
    "square = np.random.choice(150, n_samples) + 25\n",
    "floor = np.random.choice(29, n_samples) + 1\n",
    "rooms = np.random.choice(5, n_samples) + 1\n",
    "\n",
    "price = square * floor * rooms * 1000 + 5000\n",
    "\n",
    "data = pd.DataFrame({'square': square, 'floor': floor, 'rooms': rooms, 'price': price})\n",
    "data.head(5)"
   ]
  },
  {
   "cell_type": "markdown",
   "id": "1e93ed8e",
   "metadata": {},
   "source": [
    "У меня получается три параметра: square, floor, rooms\n",
    "\n",
    "И одна целевая переменная.\n",
    "\n",
    "Целевая переменная зависит от трех параметров"
   ]
  },
  {
   "cell_type": "code",
   "execution_count": 24,
   "id": "812da860",
   "metadata": {},
   "outputs": [],
   "source": [
    "from sklearn.metrics import mean_absolute_error"
   ]
  },
  {
   "cell_type": "code",
   "execution_count": 26,
   "id": "9a7da61e",
   "metadata": {},
   "outputs": [
    {
     "name": "stdout",
     "output_type": "stream",
     "text": [
      "Weights: [  45641.32327619  309256.51718648 1466772.12177323]\n",
      "Bias: -9062189.959404279\n",
      "Error: 1378867.1602099442\n"
     ]
    }
   ],
   "source": [
    "# Провожу машинное обучение:\n",
    "# Линейная регрессия\n",
    "\n",
    "x = data[['square', 'floor', 'rooms']]\n",
    "y = data['price']\n",
    "reg = LinearRegression().fit(x, y)\n",
    "print('Weights: {}'.format(reg.coef_))\n",
    "print('Bias: {}'.format(reg.intercept_))\n",
    "\n",
    "pred_values = reg.predict(data[['square', 'floor', 'rooms']])\n",
    "print('Error: {}'.format(mean_absolute_error(pred_values, y)))"
   ]
  },
  {
   "cell_type": "markdown",
   "id": "e38df833",
   "metadata": {},
   "source": [
    "Что вижу: \n",
    "1. Очень больщой Weights\n",
    "2. Большой Bias (смещение)\n",
    "3. Error (средняя абсоллютная ошибка) = 1 378 867, что составляет большой % от price"
   ]
  },
  {
   "cell_type": "code",
   "execution_count": 27,
   "id": "0ff825ff",
   "metadata": {},
   "outputs": [
    {
     "data": {
      "text/plain": [
       "2993000.0"
      ]
     },
     "execution_count": 27,
     "metadata": {},
     "output_type": "execute_result"
    }
   ],
   "source": [
    "y.median()"
   ]
  },
  {
   "cell_type": "markdown",
   "id": "e35d286e",
   "metadata": {},
   "source": [
    "От медианы ошибка составляет порядка 40%"
   ]
  },
  {
   "cell_type": "code",
   "execution_count": null,
   "id": "f80670e7",
   "metadata": {},
   "outputs": [],
   "source": []
  },
  {
   "cell_type": "code",
   "execution_count": 29,
   "id": "acb3ee92",
   "metadata": {},
   "outputs": [
    {
     "data": {
      "text/html": [
       "<div>\n",
       "<style scoped>\n",
       "    .dataframe tbody tr th:only-of-type {\n",
       "        vertical-align: middle;\n",
       "    }\n",
       "\n",
       "    .dataframe tbody tr th {\n",
       "        vertical-align: top;\n",
       "    }\n",
       "\n",
       "    .dataframe thead th {\n",
       "        text-align: right;\n",
       "    }\n",
       "</style>\n",
       "<table border=\"1\" class=\"dataframe\">\n",
       "  <thead>\n",
       "    <tr style=\"text-align: right;\">\n",
       "      <th></th>\n",
       "      <th>square</th>\n",
       "      <th>floor</th>\n",
       "      <th>rooms</th>\n",
       "      <th>price</th>\n",
       "      <th>newpr</th>\n",
       "    </tr>\n",
       "  </thead>\n",
       "  <tbody>\n",
       "    <tr>\n",
       "      <th>0</th>\n",
       "      <td>140</td>\n",
       "      <td>26</td>\n",
       "      <td>5</td>\n",
       "      <td>18205000</td>\n",
       "      <td>18200</td>\n",
       "    </tr>\n",
       "    <tr>\n",
       "      <th>1</th>\n",
       "      <td>167</td>\n",
       "      <td>27</td>\n",
       "      <td>5</td>\n",
       "      <td>22550000</td>\n",
       "      <td>22545</td>\n",
       "    </tr>\n",
       "    <tr>\n",
       "      <th>2</th>\n",
       "      <td>70</td>\n",
       "      <td>4</td>\n",
       "      <td>3</td>\n",
       "      <td>845000</td>\n",
       "      <td>840</td>\n",
       "    </tr>\n",
       "    <tr>\n",
       "      <th>3</th>\n",
       "      <td>108</td>\n",
       "      <td>26</td>\n",
       "      <td>2</td>\n",
       "      <td>5621000</td>\n",
       "      <td>5616</td>\n",
       "    </tr>\n",
       "    <tr>\n",
       "      <th>4</th>\n",
       "      <td>32</td>\n",
       "      <td>3</td>\n",
       "      <td>4</td>\n",
       "      <td>389000</td>\n",
       "      <td>384</td>\n",
       "    </tr>\n",
       "  </tbody>\n",
       "</table>\n",
       "</div>"
      ],
      "text/plain": [
       "   square  floor  rooms     price  newpr\n",
       "0     140     26      5  18205000  18200\n",
       "1     167     27      5  22550000  22545\n",
       "2      70      4      3    845000    840\n",
       "3     108     26      2   5621000   5616\n",
       "4      32      3      4    389000    384"
      ]
     },
     "execution_count": 29,
     "metadata": {},
     "output_type": "execute_result"
    }
   ],
   "source": [
    "# Создаю новый признак в расчете повысить качество прогноза.\n",
    "# Новый признак будет состоять из произведения трех параметров\n",
    "\n",
    "data['newpr'] = data['square'] * data['floor'] * data['rooms']\n",
    "data.head(5)"
   ]
  },
  {
   "cell_type": "code",
   "execution_count": 30,
   "id": "d58e1eda",
   "metadata": {},
   "outputs": [
    {
     "name": "stdout",
     "output_type": "stream",
     "text": [
      "Weights: [1000.]\n",
      "Bias: 4999.999999998137\n",
      "Error: 1.4352262951433659e-09\n"
     ]
    }
   ],
   "source": [
    "# Еще раз обучаю:\n",
    "\n",
    "x = data[['newpr']]\n",
    "y = data['price']\n",
    "reg = LinearRegression().fit(x, y)\n",
    "print('Weights: {}'.format(reg.coef_))\n",
    "print('Bias: {}'.format(reg.intercept_))\n",
    "\n",
    "pred_values = reg.predict(data[['newpr']])\n",
    "print('Error: {}'.format(mean_absolute_error(pred_values, y)))"
   ]
  },
  {
   "cell_type": "markdown",
   "id": "c90268c5",
   "metadata": {},
   "source": [
    "Получаем идеальное качество\n",
    "1. Ошибка ушла в 0 (стремиться к 0)\n",
    "2. Weights и Bias получились 1000 и 5000 соответсвенно как в зависимости."
   ]
  },
  {
   "cell_type": "markdown",
   "id": "c2d24c9c",
   "metadata": {},
   "source": [
    "То есть модель начала показывать идеальный прогноз"
   ]
  }
 ],
 "metadata": {
  "kernelspec": {
   "display_name": "Python 3",
   "language": "python",
   "name": "python3"
  },
  "language_info": {
   "codemirror_mode": {
    "name": "ipython",
    "version": 3
   },
   "file_extension": ".py",
   "mimetype": "text/x-python",
   "name": "python",
   "nbconvert_exporter": "python",
   "pygments_lexer": "ipython3",
   "version": "3.8.8"
  }
 },
 "nbformat": 4,
 "nbformat_minor": 5
}

{
 "cells": [
  {
   "cell_type": "markdown",
   "id": "b8296475",
   "metadata": {},
   "source": [
    "# Homework on the topic Python Basics."
   ]
  },
  {
   "cell_type": "markdown",
   "id": "00a08399",
   "metadata": {},
   "source": [
    "## Задание 1.\n",
    "\n",
    "### Даны 2 переменных, в которых хранятся строки произвольной длины: phrase_1 и phrase_2. Напишите код, который проверяет какая из этих строк длиннее.\n"
   ]
  },
  {
   "cell_type": "code",
   "execution_count": null,
   "id": "a63f2191",
   "metadata": {},
   "outputs": [],
   "source": [
    "phrase_1 = input('Введите фразу 1: ')\n",
    "phrase_2 = input('Введите фразу 2: ')\n",
    "if phrase_1 > phrase_2:\n",
    "    print('Фраза 1 длиннее фразы 2')\n",
    "elif phrase_2 > phrase_1:\n",
    "    print('Фраза 2 длиннее фразы 1')\n",
    "else:\n",
    "    print('Фразы равной длины')"
   ]
  },
  {
   "cell_type": "markdown",
   "id": "a2164253",
   "metadata": {},
   "source": [
    "## Задание 2\n",
    "\n",
    "### Дана переменная, в которой хранится четырехзначное число (год). Необходимо написать программу, которая выведет, является ли данный год високосным или обычным."
   ]
  },
  {
   "cell_type": "code",
   "execution_count": 12,
   "id": "99cc6625",
   "metadata": {},
   "outputs": [
    {
     "name": "stdout",
     "output_type": "stream",
     "text": [
      "Введите год: 2100\n",
      "2100 - обычный год\n"
     ]
    }
   ],
   "source": [
    "'''\n",
    "Правило определения високосного года:\n",
    "\n",
    "1. Если год не делится на 4, значит он обычный\n",
    "2. Иначе надо проверить не делится ли год на 100\n",
    "3. Если не делится, значит это не столетие и можно сделать вывод, что год високосный\n",
    "4. Если делится на 100, значит это столетие и его следует проверить его делимость на 400\n",
    "5. Если год делится на 400, то он високосный\n",
    "6. Иначе год обычный\n",
    "'''\n",
    "\n",
    "year = int(input('Введите год: '))\n",
    "if (year % 4 != 0):\n",
    "    print(year, '- обычный год')\n",
    "elif (year % 100 != 0):\n",
    "    print(year, '- високосный год')\n",
    "elif (year % 400 == 0):\n",
    "    print(year, '- високосный год')\n",
    "else:\n",
    "    print(year, '- обычный год')"
   ]
  },
  {
   "cell_type": "markdown",
   "id": "9840820a",
   "metadata": {},
   "source": [
    "## Задание 3\n",
    "\n",
    "### Необходимо написать программу, которая будет запрашивать у пользователя месяц и дату рождения и выводить соответствующий знак зодиака."
   ]
  },
  {
   "cell_type": "code",
   "execution_count": 20,
   "id": "ab17d879",
   "metadata": {},
   "outputs": [
    {
     "name": "stdout",
     "output_type": "stream",
     "text": [
      "Введите день: 345\n",
      "Введите месяц (пример: Август): 3rd\n",
      "Не правильно введены данные. Не могу определить знак зодиака\n"
     ]
    }
   ],
   "source": [
    "'''\n",
    "Зoдиakaльный знak Koгдa нaчинaeтcя и пo kakoe чиcлo длитcя\n",
    "\n",
    "Koзepoг  22 дekaбpя – 19 янвapя\n",
    "Вoдoлeй  20 янвapя – 19 фeвpaля\n",
    "Pыбы     20 фeвpaля – 21 mapтa\n",
    "Oвeн     22 mapтa – 21 aпpeля\n",
    "Teлeц    22 aпpeля – 21 maя\n",
    "Близнeцы 22 maя – 21 июня\n",
    "Pak      22 июня – 21 июля\n",
    "Лeв      22 июля – 21 aвгycтa\n",
    "Дeвa     22 aвгycтa – 21 ceнтябpя\n",
    "Вecы     22 ceнтябpя – 21 okтябpя\n",
    "Ckopпиoн 22 okтябpя – 20 нoябpя\n",
    "Cтpeлeц  21 нoябpя – 21 дekaбpя\n",
    "'''\n",
    "\n",
    "\n",
    "day = int(input('Введите день: '))\n",
    "month = input('Введите месяц (пример: Август): ')\n",
    "if (month=='Декабрь' and day>=22) or (month=='Январь' and day<=19):\n",
    "    print('Ваш знак зодиака: Козерог')\n",
    "elif (month=='Январь' and day>=20) or (month=='Февраль' and day<=19):\n",
    "    print('Ваш знак зодиака: Водолей')\n",
    "elif (month=='Февраль' and day>=20) or (month=='Март' and day<=21):\n",
    "    print('Ваш знак зодиака: Рыбы')\n",
    "elif (month=='Март' and day>=22) or (month=='Апрель' and day<=21):\n",
    "    print('Ваш знак зодиака: Овен')\n",
    "elif (month=='Апрель' and day>=22) or (month=='Май' and day<=21):\n",
    "    print('Ваш знак зодиака: Телец')\n",
    "elif (month=='Май' and day>=22) or (month=='Июнь' and day<=21):\n",
    "    print('Ваш знак зодиака: Близнецы')\n",
    "elif (month=='Июнь' and day>=22) or (month=='Июль' and day<=21):\n",
    "    print('Ваш знак зодиака: Рак')\n",
    "elif (month=='Июль' and day>=22) or (month=='Август' and day<=21):\n",
    "    print('Ваш знак зодиака: Лев')\n",
    "elif (month=='Август' and day>=22) or (month=='Сентябрь' and day<=21):\n",
    "    print('Ваш знак зодиака: Дева')\n",
    "elif (month=='Сентябрь' and day>=22) or (month=='Октябрь' and day<=21):\n",
    "    print('Ваш знак зодиака: Весы')\n",
    "elif (month=='Октябрь' and day>=22) or (month=='Ноябрь' and day<=20):\n",
    "    print('Ваш знак зодиака: Скорпион')\n",
    "elif (month=='Ноябрь' and day>=21) or (month=='Декабрь' and day<=21):\n",
    "    print('Ваш знак зодиака: Стрелец')\n",
    "else:\n",
    "    print('Не правильно введены данные. Не могу определить знак зодиака')\n"
   ]
  },
  {
   "cell_type": "markdown",
   "id": "5134d690",
   "metadata": {},
   "source": [
    "## Задание 4\n",
    "\n",
    "### Вам нужно написать программу для подбора упаковок по размерам товара. Размеры (ширина, длина, высота) хранятся в переменных (в сантиметрах):"
   ]
  },
  {
   "cell_type": "code",
   "execution_count": 32,
   "id": "f9613421",
   "metadata": {},
   "outputs": [
    {
     "name": "stdout",
     "output_type": "stream",
     "text": [
      "Введите ширину товара (в см) => 49\n",
      "Введите длину товара (в см) => 60\n",
      "Введите высоту товара (в см) => 15\n",
      "Нужна Коробка №2\n"
     ]
    }
   ],
   "source": [
    "'''\n",
    "1. если каждое из трех измерений менее 15 сантиметров, то выведите на экран \"Коробка №1\";\n",
    "2. если хотя бы одно из измерений больше 15 сантиметров, но менее 50 сантиметров, то выводите \"Коробка №2\";\n",
    "3. если длина товара больше 2 метров, то выводите \"Упаковка для лыж\";\n",
    "4. во всех остальных случаях выводите \"Стандартная коробка №3\".\n",
    "'''\n",
    "\n",
    "width = int(input('Введите ширину товара (в см) => '))\n",
    "length = int(input('Введите длину товара (в см) => '))\n",
    "height = int(input('Введите высоту товара (в см) => '))\n",
    "if width<15 and length<15 and height<15:\n",
    "    print('Используйте Коробку № 1')\n",
    "\n",
    "elif length>200:   # больше 2 метров (200 см)\n",
    "    print('Ищите упаковку для лыж')\n",
    "    \n",
    "elif (width>15 and width<50) or (length>15 and length<50) or (height>15 and height<50):\n",
    "    print('Нужна Коробка №2')\n",
    "\n",
    "else:\n",
    "    print('Стандартная коробка №3')"
   ]
  },
  {
   "cell_type": "markdown",
   "id": "0ba02cf6",
   "metadata": {},
   "source": [
    "## Задание 5\n",
    "\n",
    "### Определить счастливый билет"
   ]
  },
  {
   "cell_type": "code",
   "execution_count": 40,
   "id": "3363bc14",
   "metadata": {},
   "outputs": [
    {
     "name": "stdout",
     "output_type": "stream",
     "text": [
      "Введите шестизначный номер билета => 123321\n",
      "Cчастливый билет\n"
     ]
    }
   ],
   "source": [
    "# В задании не проверяю на то что введены только цифры..., а не символьные значения\n",
    "\n",
    "ticket = input('Введите шестизначный номер билета => ')\n",
    "if len(ticket)!=6:\n",
    "    print('Введен не правильный номер билета. Не могу определить является ли данный билет \"счастливым\"')\n",
    "elif int(ticket[0])+int(ticket[1])+int(ticket[2])==int(ticket[3])+int(ticket[4])+int(ticket[5]):\n",
    "    print('Cчастливый билет')\n",
    "else:\n",
    "    print('Несчастливый билет')"
   ]
  },
  {
   "cell_type": "markdown",
   "id": "06a82869",
   "metadata": {},
   "source": [
    "## Задание 6\n",
    "\n",
    "### Площади фигур."
   ]
  },
  {
   "cell_type": "code",
   "execution_count": 53,
   "id": "1612f3f2",
   "metadata": {},
   "outputs": [
    {
     "name": "stdout",
     "output_type": "stream",
     "text": [
      "Вычисление площади фигур...\n",
      "Введите тип фигуры (круг, треугольник или прямоугольник) => прямоугольник\n",
      "Введите длину стороны А => 10\n",
      "Введите длину стороны B => 5\n",
      "Площадь прямоугольника =  50\n"
     ]
    }
   ],
   "source": [
    "print('Вычисление площади фигур...')\n",
    "figure=input('Введите тип фигуры (круг, треугольник или прямоугольник) => ')\n",
    "if figure=='круг':\n",
    "    # S круга = Pi*R*R\n",
    "    # округляю до 2 знаков\n",
    "    Pi=3.1416\n",
    "    radius = int(input('Введите радиус круга => '))\n",
    "    S=round(Pi*radius**2, 2)\n",
    "    print('Площадь круга = ', S)\n",
    "\n",
    "elif figure=='треугольник':\n",
    "    #      _________________________\n",
    "    # S = √ p(p - a)(p - b)(p - c)\n",
    "    # p треуг. = (A+B+C) / 2         - периметр\n",
    "    # для корня квадратного применяю функцию pow(x,y)\n",
    "    # округляю до 2 знаков\n",
    "    SideA = int(input('Введите длину стороны А => '))\n",
    "    SideB = int(input('Введите длину стороны B => '))\n",
    "    SideC = int(input('Введите длину стороны C => '))\n",
    "    perimeter=round((SideA + SideB + SideC) / 2, 2)\n",
    "    S=round(pow(perimeter * (perimeter-SideA) * (perimeter-SideB) * (perimeter-SideC), 0.5), 2)\n",
    "    print('Площадь треугольника = ', S)\n",
    "\n",
    "elif figure=='прямоугольник':\n",
    "    # S прям = A*B\n",
    "    SideA = int(input('Введите длину стороны А => '))\n",
    "    SideB = int(input('Введите длину стороны B => '))\n",
    "    S = SideA * SideB\n",
    "    print('Площадь прямоугольника = ', S)\n",
    "\n",
    "else:\n",
    "    print('Не могу определить фигуру и вычислить площадь!')"
   ]
  }
 ],
 "metadata": {
  "kernelspec": {
   "display_name": "Python 3",
   "language": "python",
   "name": "python3"
  },
  "language_info": {
   "codemirror_mode": {
    "name": "ipython",
    "version": 3
   },
   "file_extension": ".py",
   "mimetype": "text/x-python",
   "name": "python",
   "nbconvert_exporter": "python",
   "pygments_lexer": "ipython3",
   "version": "3.8.8"
  }
 },
 "nbformat": 4,
 "nbformat_minor": 5
}

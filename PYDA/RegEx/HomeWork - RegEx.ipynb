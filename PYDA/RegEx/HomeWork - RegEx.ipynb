{
 "cells": [
  {
   "cell_type": "markdown",
   "id": "f87b8c4f",
   "metadata": {},
   "source": [
    "## Домашнее задание к лекции «Регулярные выражения и основы синтаксического разбора»\n",
    "\n",
    "### Задание 1\n",
    "\n",
    "Напишите функцию, которая принимает на вход строку и проверяет является ли она валидным транспортным номером (1 буква, 3 цифры, 2 буквы, 2-3 цифры).\n",
    "Обратите внимание, что не все буквы кириллического алфавита используются в транспортных номерах.\n",
    "Если номер валиден, то функция должна возвращать отдельно номер и регион.\n",
    "\n",
    "Примеры работы программы:\n",
    "car_id = 'А222BС96’\n",
    "Результат: Номер А222BС валиден. Регион: 96\n",
    "\n",
    "car_id = 'АБ22ВВ193’\n",
    "Результат: Номер не валиден"
   ]
  },
  {
   "cell_type": "code",
   "execution_count": 30,
   "id": "2b8494cd",
   "metadata": {},
   "outputs": [
    {
     "name": "stdout",
     "output_type": "stream",
     "text": [
      "Введите номер авто (пример: A123BC10): К001УС10\n",
      "Номер К001УС10 валиден. Регион: 10\n"
     ]
    }
   ],
   "source": [
    "import re\n",
    "car_id = input('Введите номер авто (пример: A123BC10): ')\n",
    "#car_id = 'А222ВС96'\n",
    "# car_id = 'АБ22ВВ193'\n",
    "# car_id = 'А000ВС96'\n",
    "#car_id = 'Я160КН10'\n",
    "# car_id = 'М160КН01'\n",
    "# car_id = 'М160КН00'\n",
    "# car_id = 'М160КН000'\n",
    "\n",
    "\n",
    "number_car = re.findall(r'^[АВЕКМНОРСТУХ]\\d{3}(?<!000)[АВЕКМНОРСТУХ]{2}(?!0*$)\\d*$' , car_id)\n",
    "if len(number_car) > 0:\n",
    "    number_car1 = re.findall(r'^[АВЕКМНОРСТУХ]\\d{3}(?<!000)[АВЕКМНОРСТУХ]{2}(?!0*$)\\d*$' , car_id)\n",
    "    regionr_car1 = re.findall(r'(?!0*$)\\d*$' , car_id)\n",
    "    print(f'Номер {number_car1[0]} валиден. Регион: {regionr_car1[0]}')\n",
    "else:\n",
    "    print(f'Номер {car_id} не валиден')\n",
    "\n"
   ]
  },
  {
   "cell_type": "markdown",
   "id": "27619614",
   "metadata": {},
   "source": [
    "### Задание 2\n",
    "\n",
    "Напишите функцию, которая будет удалять все последовательные повторы слов из заданной строки при помощи регулярных выражений.\n",
    "\n",
    "Пример работы программы:\n",
    "some_string = ‘Напишите функцию функцию, которая будет будет будет будет удалять все все все все последовательные повторы слов из из из из заданной строки строки при помощи регулярных выражений’\n",
    "\n",
    "Результат: Напишите функцию, которая будет удалять все последовательные повторы слов из заданной строки при помощи регулярных выражений.\n"
   ]
  },
  {
   "cell_type": "code",
   "execution_count": 88,
   "id": "eeadf2eb",
   "metadata": {},
   "outputs": [
    {
     "data": {
      "text/plain": [
       "'Напишите функцию, которая будет удалять все последовательные повторы слов из заданной строки при помощи регулярных выражений'"
      ]
     },
     "execution_count": 88,
     "metadata": {},
     "output_type": "execute_result"
    }
   ],
   "source": [
    "import re\n",
    "some_string = 'Напишите функцию функцию, которая будет будет будет будет удалять все все все все последовательные \\\n",
    "повторы слов из из из из заданной строки строки при помощи регулярных выражений'\n",
    "\n",
    "# some_string_new = re.sub(r'\\b(\\w+)\\s+\\1\\b', r'\\1', some_string)       # удаляет только одно повторение\n",
    "some_string_new = re.sub(r'(\\b\\w+\\b)(\\s+\\1)+', r'\\1', some_string)\n",
    "                           \n",
    "some_string_new"
   ]
  },
  {
   "cell_type": "markdown",
   "id": "fbb86129",
   "metadata": {},
   "source": [
    "### Задание 3\n",
    "\n",
    "Напишите функцию, которая будет возвращать акроним по переданной в нее строке со словами.\n",
    "\n",
    "Примеры работы программы:\n",
    "\n",
    "some_words = 'Информационные технологии'\n",
    "Результат: ИТ\n",
    "\n",
    "some_words = 'Near Field Communication'\n",
    "Результат: NFC\n"
   ]
  },
  {
   "cell_type": "code",
   "execution_count": 39,
   "id": "2203aee3",
   "metadata": {},
   "outputs": [
    {
     "name": "stdout",
     "output_type": "stream",
     "text": [
      "ИТ\n"
     ]
    }
   ],
   "source": [
    "import re\n",
    "\n",
    "some_words = 'Информационные технологии'\n",
    "# some_words = 'Near Field Communication'\n",
    "\n",
    "# 1 шаг: оставляю только первые буквы слов\n",
    "some_words_new = re.sub(r'\\b(\\w)\\w+', r'\\1', some_words)\n",
    "# 2 шаг: убираю пробелы\n",
    "some_words_new = re.sub(r'\\s+', '', some_words_new)\n",
    "# 3 шаг: перевожу все в заглавную букву, пока не через рег.выр., но это показалось самое простое...\n",
    "# не нашел способа через рег. выр.\n",
    "some_words_new = some_words_new.upper()\n",
    "\n",
    "print(some_words_new)"
   ]
  },
  {
   "cell_type": "markdown",
   "id": "ed556276",
   "metadata": {},
   "source": [
    "### Задание 4\n",
    "\n",
    "Напишите функцию, которая будет принимать на вход список email-адресов и выводить их распределение по доменным зонам.\n",
    "\n",
    "Пример работы программы:\n",
    "emails = ['test@gmail.com, xyz@test.in, test@ya.ru, xyz@mail.ru, xyz@ya.ru', xyz@gmail.com]\n",
    "\n",
    "Результат:\n",
    "gmail.com: 2\n",
    "test.in: 1\n",
    "ya.ru: 2\n",
    "mail.ru: 1"
   ]
  },
  {
   "cell_type": "code",
   "execution_count": 150,
   "id": "5377720f",
   "metadata": {},
   "outputs": [
    {
     "name": "stdout",
     "output_type": "stream",
     "text": [
      "gmail.com: 2\n",
      "test.in: 1\n",
      "ya.ru: 2\n",
      "mail.ru: 1\n"
     ]
    }
   ],
   "source": [
    "emails = ['test@gmail.com', 'xyz@test.in', 'test@ya.ru', 'xyz@mail.ru', 'xyz@ya.ru', 'xyz@gmail.com']\n",
    "\n",
    "import re\n",
    "\n",
    "domen_dict = {}\n",
    "\n",
    "for email in emails:\n",
    "    # выделяю домен:\n",
    "    domen_str = re.search(r'@\\w+.\\w{2,3}', email)[0][1:]\n",
    "    # print(domen_str)\n",
    "    \n",
    "    if domen_str in domen_dict.keys():\n",
    "        domen_dict[domen_str] += 1\n",
    "    else:\n",
    "        domen_dict[domen_str] = 1    \n",
    "\n",
    "for domen, count_domen in domen_dict.items():\n",
    "    print(f'{domen}: {count_domen}')\n"
   ]
  },
  {
   "cell_type": "markdown",
   "id": "a0bb1d5b",
   "metadata": {},
   "source": [
    "### Задание 5\n",
    "\n",
    "Напишите функцию, которая будет подсчитывать сколько слов начинается на гласные, а сколько на согласные буквы в тексте (текст может быть написан как с использованием букв кириллицы, так и латиницы).\n",
    "\n",
    "Пример работы программы:\n",
    "\n",
    "some_text = 'Эталонной реализацией Python является интерпретатор CPython, поддерживающий большинство активно используемых платформ. Он распространяется под свободной лицензией Python Software Foundation License, позволяющей использовать его без ограничений в любых приложениях, включая проприетарные.'\n",
    "\n",
    "Результат:\n",
    "Слов на гласные буквы: 9\n",
    "Слов на согласные буквы: 21"
   ]
  },
  {
   "cell_type": "code",
   "execution_count": 96,
   "id": "dbb1816c",
   "metadata": {},
   "outputs": [
    {
     "name": "stdout",
     "output_type": "stream",
     "text": [
      "Слов на гласные буквы: 9\n",
      "Слов на согласные буквы: 21\n"
     ]
    }
   ],
   "source": [
    "import re\n",
    "\n",
    "some_text = 'Эталонной реализацией Python является интерпретатор CPython, поддерживающий большинство активно \\\n",
    "используемых платформ. Он распространяется под свободной лицензией Python Software Foundation License, позволяющей \\\n",
    "использовать его без ограничений в любых приложениях, включая проприетарные.'\n",
    "\n",
    "vowels = 0\n",
    "consonants = 0\n",
    "\n",
    "vowels = len(re.findall(r'\\b[aeyuioAEYUIOуеаыоэяиюыУЕЫАОЭЯИЮЫ]+', some_text))\n",
    "consonants = len(re.findall(r'\\b[qwrtpsdfghjklzxcvbnmQWRTPSDFGHJKLZXCVBNMцкнгшщзхфвпрлджчсмтбйЦКНГШЩЗХФВПРЛДЖЧСМТБЙ]+', some_text))\n",
    "\n",
    "print(f'Слов на гласные буквы: {vowels}')\n",
    "print(f'Слов на согласные буквы: {consonants}')\n"
   ]
  },
  {
   "cell_type": "markdown",
   "id": "db27b962",
   "metadata": {},
   "source": [
    "### Задание 6\n",
    "\n",
    "Напишите функцию, которая будет проверять номер сотового телефона на валидность, если он валиден, то переводить его в формат:\n",
    "+7-xxx-xxx-xx-xx\n",
    "Постарайтесь предусмотреть как можно больше адекватных форматов изначального ввода номера.\n",
    "\n",
    "Примеры работы программы:\n",
    "\n",
    "phone = '+7 955 555-55-55'\n",
    " Результат: +7-950-555-55-55\n",
    "phone = '8(955)555-55-55'\n",
    " Результат: +7-950-555-55-55\n",
    "phone = '+7 955 555 55 55'\n",
    " Результат: +7-950-555-55-55\n",
    "phone = '7(955) 555-55-55'\n",
    " Результат: +7-950-555-55-55\n",
    "phone = '423-555-55-5555'\n",
    " Результат: Номер не валиден\n",
    "phone = '123-456-789'\n",
    " Результат: Номер не валиден"
   ]
  },
  {
   "cell_type": "code",
   "execution_count": 19,
   "id": "3da76320",
   "metadata": {},
   "outputs": [
    {
     "name": "stdout",
     "output_type": "stream",
     "text": [
      "Номер не валиден\n"
     ]
    }
   ],
   "source": [
    "import re\n",
    "\n",
    "phone = '+7 955 258-41-12'\n",
    "# phone = '8(955)555-55-55'\n",
    "#phone = '+8(955)123-45-78'\n",
    "# phone = '7(955) 555-55-55'\n",
    "# phone = '423-555-55-55-55'\n",
    "# phone = '123-456-789'\n",
    "\n",
    "phone_num_new = str()\n",
    "if re.findall(r'[+]|\\d[ -(]\\d{3}[ -)]{1,2}\\d{3}[ -]\\d{2}[ -]\\d{2}', phone):\n",
    "    phone_num_new = re.sub(r'\\ ', '-', phone)  # меняем пробел на -\n",
    "    phone_num_new = re.sub(r'\\(|\\)', '-', phone_num_new)   # меняем ( или ) на -\n",
    "    phone_num_new = re.sub(r'^8', '7', phone_num_new)   # меняем 8 на 7\n",
    "    phone_num_new = re.sub(r'^\\+8', r'+7', phone_num_new)   # меняем +8 на 7\n",
    "    phone_num_new = re.sub(r'--', '-', phone_num_new)   # меняем +8 на 7\n",
    "    \n",
    "    print(phone_num_new)\n",
    "else:\n",
    "    print('Номер не валиден')"
   ]
  }
 ],
 "metadata": {
  "kernelspec": {
   "display_name": "Python 3",
   "language": "python",
   "name": "python3"
  },
  "language_info": {
   "codemirror_mode": {
    "name": "ipython",
    "version": 3
   },
   "file_extension": ".py",
   "mimetype": "text/x-python",
   "name": "python",
   "nbconvert_exporter": "python",
   "pygments_lexer": "ipython3",
   "version": "3.8.8"
  }
 },
 "nbformat": 4,
 "nbformat_minor": 5
}

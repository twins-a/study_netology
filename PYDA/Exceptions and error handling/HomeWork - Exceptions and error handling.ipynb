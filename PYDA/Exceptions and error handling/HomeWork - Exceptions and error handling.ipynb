{
 "cells": [
  {
   "cell_type": "markdown",
   "id": "f50880a2",
   "metadata": {},
   "source": [
    "## Домашнее задание к лекции \"Исключения и обработка ошибок\"\n",
    "\n",
    "\n",
    "### Задание 1\n",
    "\n",
    "Печатные газеты использовали свой формат дат для каждого выпуска. Для каждой газеты из списка напишите формат указанной даты \n",
    "для перевода в объект datetime:\n",
    "\n",
    "The Moscow Times - Wednesday, October 2, 2002\n",
    "The Guardian - Friday, 11.10.13\n",
    "Daily News - Thursday, 18 August 1977\n"
   ]
  },
  {
   "cell_type": "code",
   "execution_count": 15,
   "id": "0733659a",
   "metadata": {},
   "outputs": [
    {
     "name": "stdout",
     "output_type": "stream",
     "text": [
      "2002-10-02 00:00:00\n",
      "2013-10-11 00:00:00\n",
      "1977-08-18 00:00:00\n"
     ]
    }
   ],
   "source": [
    "from datetime import datetime\n",
    "\n",
    "date_string_TheMoscowTimes = 'Wednesday, October 2, 2002'\n",
    "date_string_TheGuardian = 'Friday, 11.10.13' # в этом примере 11 - день, 10 -месяц.\n",
    "date_string_DailyNews = 'Thursday, 18 August 1977'\n",
    "\n",
    "date_datetime_TheMoscowTimes = datetime.strptime(date_string_TheMoscowTimes, '%A, %B %d, %Y')\n",
    "ate_datetime_TheGuardian = datetime.strptime(date_string_TheGuardian, '%A, %d.%m.%y')\n",
    "date_datetime_DailyNews = datetime.strptime(date_string_DailyNews, '%A, %d %B %Y')\n",
    "\n",
    "print(date_datetime_TheMoscowTimes)\n",
    "print(date_datetime_TheGuardian)\n",
    "print(date_datetime_DailyNews)"
   ]
  },
  {
   "cell_type": "code",
   "execution_count": 17,
   "id": "a7812135",
   "metadata": {},
   "outputs": [
    {
     "name": "stdout",
     "output_type": "stream",
     "text": [
      "2002-10-02 00:00:00\n",
      "2013-10-11 00:00:00\n",
      "1977-08-18 00:00:00\n"
     ]
    }
   ],
   "source": [
    "# одной строкой, просто вывод на экран:\n",
    "from datetime import datetime\n",
    "print(datetime.strptime('Wednesday, October 2, 2002', '%A, %B %d, %Y'))\n",
    "print(datetime.strptime('Friday, 11.10.13', '%A, %d.%m.%y'))\n",
    "print(datetime.strptime('Thursday, 18 August 1977', '%A, %d %B %Y'))"
   ]
  },
  {
   "cell_type": "markdown",
   "id": "f6b5af36",
   "metadata": {},
   "source": [
    "### Задание 2\n",
    "\n",
    "Дан поток дат в формате YYYY-MM-DD, в которых встречаются некорректные значения:\n",
    "stream = ['2018-04-02', '2018-02-29', '2018-19-02']\n",
    "\n",
    "Напишите функцию, которая проверяет эти даты на корректность.\n",
    "Т. е. для каждой даты возвращает True (дата корректна) или False (некорректная дата).\n"
   ]
  },
  {
   "cell_type": "code",
   "execution_count": 24,
   "id": "538a762a",
   "metadata": {},
   "outputs": [
    {
     "name": "stdout",
     "output_type": "stream",
     "text": [
      "2018-04-02 00:00:00 - True (Дата корректна)\n",
      "2018-02-29 - False (Некорректная дата)\n",
      "2018-19-02 - False (Некорректная дата)\n"
     ]
    }
   ],
   "source": [
    "from datetime import datetime\n",
    "\n",
    "stream = ['2018-04-02', '2018-02-29', '2018-19-02']\n",
    "\n",
    "for str_date in stream:\n",
    "    try:\n",
    "        dd = datetime.strptime(str_date, '%Y-%m-%d')\n",
    "        print(f'{dd} - True (Дата корректна)')\n",
    "    except:\n",
    "        print(f'{str_date} - False (Некорректная дата)')"
   ]
  },
  {
   "cell_type": "markdown",
   "id": "f344b147",
   "metadata": {},
   "source": [
    "## Задание 3\n",
    "\n",
    "Напишите функцию date_range, которая возвращает список дат за период от start_date до end_date.\n",
    "Даты должны вводиться в формате YYYY-MM-DD.\n",
    "В случае неверного формата или при start_date > end_date должен возвращаться пустой список.\n"
   ]
  },
  {
   "cell_type": "code",
   "execution_count": 44,
   "id": "49078d31",
   "metadata": {},
   "outputs": [
    {
     "name": "stdout",
     "output_type": "stream",
     "text": [
      "Формирование списка дат по интервалу дат: \n",
      "\n",
      "Введите начальную дату в формате: 'YYYY-MM-DD' => 2020-01-01\n",
      "Введите конечную дату в формате: 'YYYY-MM-DD' => 2020-01-17\n"
     ]
    },
    {
     "data": {
      "text/plain": [
       "['2020-01-01',\n",
       " '2020-01-02',\n",
       " '2020-01-03',\n",
       " '2020-01-04',\n",
       " '2020-01-05',\n",
       " '2020-01-06',\n",
       " '2020-01-07',\n",
       " '2020-01-08',\n",
       " '2020-01-09',\n",
       " '2020-01-10',\n",
       " '2020-01-11',\n",
       " '2020-01-12',\n",
       " '2020-01-13',\n",
       " '2020-01-14',\n",
       " '2020-01-15',\n",
       " '2020-01-16',\n",
       " '2020-01-17']"
      ]
     },
     "execution_count": 44,
     "metadata": {},
     "output_type": "execute_result"
    }
   ],
   "source": [
    "def date_range(list_date_vn):\n",
    "    start_date_str = input(\"Введите начальную дату в формате: 'YYYY-MM-DD' => \")\n",
    "    \n",
    "    try:\n",
    "        start_date_date = datetime.strptime(start_date_str, '%Y-%m-%d')\n",
    "        end_date_str = input(\"Введите конечную дату в формате: 'YYYY-MM-DD' => \")\n",
    "        try:\n",
    "            end_date_date = datetime.strptime(end_date_str, '%Y-%m-%d')\n",
    "            if start_date_date < end_date_date:\n",
    "                \n",
    "                current_date = start_date_date\n",
    "                \n",
    "                while current_date <= end_date_date:\n",
    "                    # можно добавлять элемент в список так, но тогда в списке ерунда какая-то...\n",
    "                    # list_date_vn.append(current_date)\n",
    "                    \n",
    "                    # поэтому перевожу дату в строку в том же формате и добавляю строку в список...\n",
    "                    list_date_vn.append(current_date.strftime('%Y-%m-%d'))\n",
    "                    \n",
    "                    current_date += timedelta(days=1)\n",
    "                    \n",
    "                return list_date_vn\n",
    "            else:\n",
    "                print(f'Конечная дата меньше начальной... Нельзя построить список дат')\n",
    "        except:\n",
    "            print(f'Не в том формате ведена конечная дата... Нельзя построить список дат')\n",
    "    except:\n",
    "        print(f'Не в том формате ведена начальная дата... Нельзя построить список дат')\n",
    "    \n",
    "\n",
    "from datetime import datetime\n",
    "from datetime import timedelta\n",
    "\n",
    "list_date = []\n",
    "print(f'Формирование списка дат по интервалу дат: \\n')\n",
    "list_date = date_range(list_date)\n",
    "list_date"
   ]
  },
  {
   "cell_type": "markdown",
   "id": "02c0a114",
   "metadata": {},
   "source": [
    "## Задание 4 (бонусное)\n",
    "\n",
    "Ваш коллега прислал код функции:\n",
    "\n",
    "DEFAULT_USER_COUNT = 3\n",
    "\n",
    "def delete_and_return_last_user(region, default_list=['A100', 'A101', 'A102']):\n",
    "\"\"\"\n",
    "Удаляет из списка default_list последнего пользователя\n",
    "и возвращает ID нового последнего пользователя.\n",
    "\"\"\"\n",
    "    element_to_delete = default_list[-1]\n",
    "    default_list.remove(element_to_delete)\n",
    "\n",
    "1 return default_list[DEFAULT_USER_COUNT-2]\n",
    "\n",
    "При однократном вызове этой функции все работает корректно:\n",
    "\n",
    "delete_and_return_last_user(1)\n",
    "\n",
    "‘A101’\n",
    "\n",
    "Однако, при повторном вызове получается ошибка IndexError: list index out of range.\n",
    "\n",
    "Задание:\n",
    "1.\tЧто значит ошибка list index out of range?\n",
    "2.\tПочему при первом запуске функция работает корректно, а при втором - нет?\n"
   ]
  },
  {
   "cell_type": "code",
   "execution_count": 56,
   "id": "71eba057",
   "metadata": {},
   "outputs": [
    {
     "ename": "IndexError",
     "evalue": "list index out of range",
     "output_type": "error",
     "traceback": [
      "\u001b[1;31m---------------------------------------------------------------------------\u001b[0m",
      "\u001b[1;31mIndexError\u001b[0m                                Traceback (most recent call last)",
      "\u001b[1;32m<ipython-input-56-7a2e17d8ed8d>\u001b[0m in \u001b[0;36m<module>\u001b[1;34m\u001b[0m\n\u001b[0;32m     13\u001b[0m \u001b[1;33m\u001b[0m\u001b[0m\n\u001b[0;32m     14\u001b[0m \u001b[0mdelete_and_return_last_user\u001b[0m\u001b[1;33m(\u001b[0m\u001b[1;36m1\u001b[0m\u001b[1;33m)\u001b[0m\u001b[1;33m\u001b[0m\u001b[1;33m\u001b[0m\u001b[0m\n\u001b[1;32m---> 15\u001b[1;33m \u001b[0mdelete_and_return_last_user\u001b[0m\u001b[1;33m(\u001b[0m\u001b[1;36m1\u001b[0m\u001b[1;33m)\u001b[0m\u001b[1;33m\u001b[0m\u001b[1;33m\u001b[0m\u001b[0m\n\u001b[0m\u001b[0;32m     16\u001b[0m \u001b[1;33m\u001b[0m\u001b[0m\n\u001b[0;32m     17\u001b[0m \u001b[1;33m\u001b[0m\u001b[0m\n",
      "\u001b[1;32m<ipython-input-56-7a2e17d8ed8d>\u001b[0m in \u001b[0;36mdelete_and_return_last_user\u001b[1;34m(region, default_list)\u001b[0m\n\u001b[0;32m     10\u001b[0m     \u001b[0melement_to_delete\u001b[0m \u001b[1;33m=\u001b[0m \u001b[0mdefault_list\u001b[0m\u001b[1;33m[\u001b[0m\u001b[1;33m-\u001b[0m\u001b[1;36m1\u001b[0m\u001b[1;33m]\u001b[0m\u001b[1;33m\u001b[0m\u001b[1;33m\u001b[0m\u001b[0m\n\u001b[0;32m     11\u001b[0m     \u001b[0mdefault_list\u001b[0m\u001b[1;33m.\u001b[0m\u001b[0mremove\u001b[0m\u001b[1;33m(\u001b[0m\u001b[0melement_to_delete\u001b[0m\u001b[1;33m)\u001b[0m\u001b[1;33m\u001b[0m\u001b[1;33m\u001b[0m\u001b[0m\n\u001b[1;32m---> 12\u001b[1;33m     \u001b[1;32mreturn\u001b[0m \u001b[0mdefault_list\u001b[0m\u001b[1;33m[\u001b[0m\u001b[0mDEFAULT_USER_COUNT\u001b[0m\u001b[1;33m-\u001b[0m\u001b[1;36m2\u001b[0m\u001b[1;33m]\u001b[0m\u001b[1;33m\u001b[0m\u001b[1;33m\u001b[0m\u001b[0m\n\u001b[0m\u001b[0;32m     13\u001b[0m \u001b[1;33m\u001b[0m\u001b[0m\n\u001b[0;32m     14\u001b[0m \u001b[0mdelete_and_return_last_user\u001b[0m\u001b[1;33m(\u001b[0m\u001b[1;36m1\u001b[0m\u001b[1;33m)\u001b[0m\u001b[1;33m\u001b[0m\u001b[1;33m\u001b[0m\u001b[0m\n",
      "\u001b[1;31mIndexError\u001b[0m: list index out of range"
     ]
    }
   ],
   "source": [
    "# Ошибка list index out of range обозначает что индекс списка вне диапазона. \n",
    "# То есть идет обращение по индексу которого нет в списке\n",
    "\n",
    "DEFAULT_USER_COUNT = 3\n",
    "\n",
    "def delete_and_return_last_user(region, default_list=['A100', 'A101', 'A102']):\n",
    "    \"\"\"\n",
    "    Удаляет из списка default_list последнего пользователя\n",
    "    и возвращает ID нового последнего пользователя.\n",
    "    \"\"\"\n",
    "    element_to_delete = default_list[-1]\n",
    "    default_list.remove(element_to_delete)\n",
    "    return default_list[DEFAULT_USER_COUNT-2]\n",
    "\n",
    "delete_and_return_last_user(1)\n",
    "delete_and_return_last_user(1)\n",
    "\n",
    "\n",
    "# на момент повторного запуска процедуры и возврата (второй запуск процедуры) у нас в списке остался один элемент\n",
    "# с индексом = 0 (значение = 'А100').\n",
    "# а в строке: return default_list[DEFAULT_USER_COUNT-2] мы пытаемся вернуть элемент с индексом 1 (3-2=1), а он удален в \n",
    "# предыдущей строке: default_list.remove(element_to_delete)\n",
    "\n",
    "# отсюда и ошибка: IndexError: list index out of range\n",
    "# Нет элемента с индексом 1.\n",
    "\n",
    "# При первом запуске такого не происходит, так как элемент с индексом 1 у нас еще есть в списке.\n",
    "\n",
    "# Здесь явно надо менять индекс при return..."
   ]
  }
 ],
 "metadata": {
  "kernelspec": {
   "display_name": "Python 3",
   "language": "python",
   "name": "python3"
  },
  "language_info": {
   "codemirror_mode": {
    "name": "ipython",
    "version": 3
   },
   "file_extension": ".py",
   "mimetype": "text/x-python",
   "name": "python",
   "nbconvert_exporter": "python",
   "pygments_lexer": "ipython3",
   "version": "3.8.8"
  }
 },
 "nbformat": 4,
 "nbformat_minor": 5
}

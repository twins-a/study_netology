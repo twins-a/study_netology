{
 "cells": [
  {
   "cell_type": "markdown",
   "id": "07cdb211",
   "metadata": {},
   "source": [
    "## Homework\n",
    "\n",
    "### Задание 1. Дана переменная, в которой хранится слово из латинских букв. Напишите код, который выводит на экран:\n",
    "     •\tсреднюю букву, если число букв в слове нечетное;\n",
    "     •\tдве средних буквы, если число букв четное.\n"
   ]
  },
  {
   "cell_type": "code",
   "execution_count": 1,
   "id": "32c792b5",
   "metadata": {},
   "outputs": [
    {
     "name": "stdout",
     "output_type": "stream",
     "text": [
      "Введите строку: rt\n",
      "rt\n"
     ]
    }
   ],
   "source": [
    "slovo = input('Введите строку: ')\n",
    "length_stroka = len(slovo)\n",
    "if length_stroka % 2 == 0:\n",
    "    print(slovo[int(length_stroka / 2 - 1) : int(length_stroka / 2 + 1)])\n",
    "else:\n",
    "    print(slovo[int(length_stroka / 2) : int(length_stroka / 2 + 1)])"
   ]
  },
  {
   "cell_type": "markdown",
   "id": "553bb71d",
   "metadata": {},
   "source": [
    "### Задание 2. Напишите программу, которая последовательно запрашивает у пользователя числа (по одному за раз) и после первого нуля выводит сумму всех ранее введенных чисел."
   ]
  },
  {
   "cell_type": "code",
   "execution_count": 29,
   "id": "3772335f",
   "metadata": {},
   "outputs": [
    {
     "name": "stdout",
     "output_type": "stream",
     "text": [
      "Подсчет суммы чисел \n",
      "\n",
      "Введите число: 2\n",
      "Введите число: 3\n",
      "Введите число: 4\n",
      "Введите число: 5\n",
      "Введите число: 0\n",
      "Сумма введеных чисел = 14\n"
     ]
    }
   ],
   "source": [
    "# вариант 1.\n",
    "sum_all=0\n",
    "print('Подсчет суммы чисел', '\\n')\n",
    "while 1 == 1:\n",
    "    number = int(input('Введите число: '))\n",
    "    if number == 0:\n",
    "        break\n",
    "    else:\n",
    "        sum_all += number\n",
    "print(f'Сумма введеных чисел = {sum_all}')"
   ]
  },
  {
   "cell_type": "code",
   "execution_count": 2,
   "id": "cc9c3e32",
   "metadata": {},
   "outputs": [
    {
     "name": "stdout",
     "output_type": "stream",
     "text": [
      "Подсчет суммы чисел \n",
      "\n",
      "Введите число: 5\n",
      "Введите число: 7\n",
      "Введите число: 0\n",
      "Сумма введеных чисел = 12\n"
     ]
    }
   ],
   "source": [
    "# вариант 2 без использования условия и break\n",
    "sum_all=0\n",
    "number = -1\n",
    "print('Подсчет суммы чисел', '\\n')\n",
    "while number != 0:\n",
    "    number = int(input('Введите число: '))\n",
    "    sum_all += number\n",
    "print(f'Сумма введеных чисел = {sum_all}')"
   ]
  },
  {
   "cell_type": "markdown",
   "id": "24055f9e",
   "metadata": {},
   "source": [
    "### Задание 3. Мы делаем MVP dating-сервиса, и у нас есть список парней и девушек.\n",
    "Выдвигаем гипотезу: лучшие рекомендации мы получим, если просто отсортируем имена по алфавиту и познакомим людей с одинаковыми индексами после сортировки! Но мы не будем никого знакомить, если кто-то может остаться без пары"
   ]
  },
  {
   "cell_type": "code",
   "execution_count": 42,
   "id": "9b9b7141",
   "metadata": {},
   "outputs": [
    {
     "name": "stdout",
     "output_type": "stream",
     "text": [
      "Alex и Emma\n",
      "Arthur и Kate\n",
      "John и Kira\n",
      "Peter и Liza\n",
      "Richard и Trisha\n"
     ]
    }
   ],
   "source": [
    "boys = ['Peter', 'Alex', 'John', 'Arthur', 'Richard']\n",
    "girls = ['Kate', 'Liza', 'Kira', 'Emma', 'Trisha']\n",
    "\n",
    "# boys = ['Peter', 'Alex', 'John', 'Arthur', 'Richard', 'Michael']\n",
    "# girls = ['Kate', 'Liza', 'Kira', 'Emma', 'Trisha']\n",
    "\n",
    "if len(boys) == len(girls):\n",
    "    boys = sorted(boys)\n",
    "    girls = sorted(girls)\n",
    "    for b, g in zip(boys, girls):\n",
    "        print(f'{b} и {g}')\n",
    "else:\n",
    "    print('Внимание, кто-то может остаться без пары!')"
   ]
  },
  {
   "cell_type": "markdown",
   "id": "3bd709e1",
   "metadata": {},
   "source": [
    "### Задание 4. У нас есть список, содержащий информацию о среднедневной температуре в Фаренгейтах за произвольный период по странам (структура данных в примере). Необходимо написать код, который рассчитает среднюю температуру за период в Цельсиях(!) для каждой страны."
   ]
  },
  {
   "cell_type": "code",
   "execution_count": 25,
   "id": "94455048",
   "metadata": {},
   "outputs": [
    {
     "name": "stdout",
     "output_type": "stream",
     "text": [
      "Средняя температура в странах:\n",
      "Thailand - 23.9 C\n",
      "Germany - 13.8 C\n",
      "Russia - 3.7 C\n",
      "Poland - 12.0 C\n"
     ]
    }
   ],
   "source": [
    "'''\n",
    "Перевод Фаренгейты в Цельсии:\n",
    "\n",
    "Ц = 5 / 9 * (Ф - 32), где\n",
    "\n",
    "Ц - температура в градусах Цельсия;\n",
    "Ф - температура в градусах Фаренгейта.\n",
    "'''\n",
    "\n",
    "countries_temperature = [\n",
    "    ['Thailand', [75.2, 77, 78.8, 73.4, 68, 75.2, 77]],\n",
    "    ['Germany', [57.2, 55.4, 59, 59, 53.6]],\n",
    "    ['Russia', [35.6, 37.4, 39.2, 41, 42.8, 39.2, 35.6]],\n",
    "    ['Poland', [50, 50, 53.6, 57.2, 55.4, 55.4]]\n",
    "]\n",
    "\n",
    "print('Средняя температура в странах:')\n",
    "for i in countries_temperature:\n",
    "    sum_aver = round(((sum(i[1]) / len(i[1])) -32) * 5 / 9, 1)\n",
    "    print(f'{i[0]} - {sum_aver} C')"
   ]
  },
  {
   "cell_type": "markdown",
   "id": "4a580bf4",
   "metadata": {},
   "source": [
    "### Задание 5. Дан поток логов по количеству просмотренных страниц для каждого пользователя. Вам необходимо написать алгоритм, который считает среднее значение просмотров на пользователя. Т. е. надо посчитать отношение суммы всех просмотров к количеству уникальных пользователей"
   ]
  },
  {
   "cell_type": "code",
   "execution_count": 58,
   "id": "0c43b37e",
   "metadata": {},
   "outputs": [
    {
     "name": "stdout",
     "output_type": "stream",
     "text": [
      "Среднее количество просмотров на уникального пользователя: 23.25\n"
     ]
    }
   ],
   "source": [
    "stream = [\n",
    "    '2018-01-01,user1,3',\n",
    "    '2018-01-07,user1,4',\n",
    "    '2018-03-29,user1,1',\n",
    "    '2018-04-04,user1,13',\n",
    "    '2018-01-05,user2,7',\n",
    "    '2018-06-14,user3,4',\n",
    "    '2018-07-02,user3,10',\n",
    "    '2018-03-21,user4,19',\n",
    "    '2018-03-22,user4,4',\n",
    "    '2018-04-22,user4,8',\n",
    "    '2018-05-03,user4,9',\n",
    "    '2018-05-11,user4,11',\n",
    "]\n",
    "\n",
    "\n",
    "stream = [\n",
    "    '2018-01-01,user100,150',\n",
    "    '2018-01-07,user99,205',\n",
    "    '2018-03-29,user1001,81'\n",
    "]\n",
    "\n",
    "sum_itog = 0\n",
    "uniq_zn = []\n",
    "for stroka in stream:\n",
    "    str_spisok=stroka.split(',')\n",
    "    sum_itog += int(str_spisok[2])\n",
    "    uniq_zn.append(str_spisok[1])\n",
    "uniq_zn=set(uniq_zn)\n",
    "print(f'Среднее количество просмотров на уникального пользователя: {round(sum_itog / len(uniq_zn), 2)}')\n"
   ]
  },
  {
   "cell_type": "markdown",
   "id": "4c36421d",
   "metadata": {},
   "source": [
    "### Задание 6. Необходимо у пользователя запрашивать набор чисел разделенных пробелом. В результате в отсортированном порядке должны выводиться числа, которые повторяются в вводе более одного раза."
   ]
  },
  {
   "cell_type": "code",
   "execution_count": 86,
   "id": "5ef440aa",
   "metadata": {},
   "outputs": [
    {
     "name": "stdout",
     "output_type": "stream",
     "text": [
      "Результат:\n",
      "1 2 3\n"
     ]
    }
   ],
   "source": [
    "stroka = '4 8 0 3 4 2 0 3'\n",
    "stroka = '1 1 2 2 3 3'\n",
    "# stroka = '10 15 15 103 200 200 200 1 1 1 1 1 2 2 2'\n",
    "\n",
    "new_stroka = ''\n",
    "stroka = sorted(stroka.split(), key = int)\n",
    "for n in stroka:\n",
    "    if stroka.count(n) > 1 and n not in new_stroka:\n",
    "        new_stroka += n\n",
    "        new_stroka += ' '\n",
    "new_stroka = new_stroka[0:len(new_stroka)-1]\n",
    "print(f'Результат:\\n{new_stroka}')"
   ]
  }
 ],
 "metadata": {
  "kernelspec": {
   "display_name": "Python 3",
   "language": "python",
   "name": "python3"
  },
  "language_info": {
   "codemirror_mode": {
    "name": "ipython",
    "version": 3
   },
   "file_extension": ".py",
   "mimetype": "text/x-python",
   "name": "python",
   "nbconvert_exporter": "python",
   "pygments_lexer": "ipython3",
   "version": "3.8.8"
  }
 },
 "nbformat": 4,
 "nbformat_minor": 5
}
